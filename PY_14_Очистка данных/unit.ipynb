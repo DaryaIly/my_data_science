{
 "cells": [
  {
   "cell_type": "code",
   "execution_count": 1,
   "metadata": {},
   "outputs": [],
   "source": [
    "import pandas as pd\n",
    "import numpy as np\n",
    "import matplotlib.pyplot as plt\n",
    "import seaborn as sns"
   ]
  },
  {
   "cell_type": "code",
   "execution_count": 5,
   "metadata": {},
   "outputs": [
    {
     "data": {
      "text/html": [
       "<div>\n",
       "<style scoped>\n",
       "    .dataframe tbody tr th:only-of-type {\n",
       "        vertical-align: middle;\n",
       "    }\n",
       "\n",
       "    .dataframe tbody tr th {\n",
       "        vertical-align: top;\n",
       "    }\n",
       "\n",
       "    .dataframe thead th {\n",
       "        text-align: right;\n",
       "    }\n",
       "</style>\n",
       "<table border=\"1\" class=\"dataframe\">\n",
       "  <thead>\n",
       "    <tr style=\"text-align: right;\">\n",
       "      <th></th>\n",
       "      <th>id</th>\n",
       "      <th>full_sq</th>\n",
       "      <th>life_sq</th>\n",
       "      <th>floor</th>\n",
       "      <th>sub_area</th>\n",
       "      <th>preschool_quota</th>\n",
       "      <th>preschool_education_centers_raion</th>\n",
       "      <th>school_quota</th>\n",
       "      <th>school_education_centers_raion</th>\n",
       "      <th>school_education_centers_top_20_raion</th>\n",
       "      <th>...</th>\n",
       "      <th>office_km</th>\n",
       "      <th>additional_education_km</th>\n",
       "      <th>preschool_km</th>\n",
       "      <th>big_church_km</th>\n",
       "      <th>church_synagogue_km</th>\n",
       "      <th>theater_km</th>\n",
       "      <th>museum_km</th>\n",
       "      <th>ecology</th>\n",
       "      <th>mosque_count_1000</th>\n",
       "      <th>price_doc</th>\n",
       "    </tr>\n",
       "  </thead>\n",
       "  <tbody>\n",
       "    <tr>\n",
       "      <th>0</th>\n",
       "      <td>1</td>\n",
       "      <td>43</td>\n",
       "      <td>27.0</td>\n",
       "      <td>4.0</td>\n",
       "      <td>Bibirevo</td>\n",
       "      <td>5001.0</td>\n",
       "      <td>5</td>\n",
       "      <td>11065.0</td>\n",
       "      <td>5</td>\n",
       "      <td>0</td>\n",
       "      <td>...</td>\n",
       "      <td>0.637189</td>\n",
       "      <td>0.947962</td>\n",
       "      <td>0.177975</td>\n",
       "      <td>0.625783</td>\n",
       "      <td>0.628187</td>\n",
       "      <td>14.053047</td>\n",
       "      <td>7.389498</td>\n",
       "      <td>good</td>\n",
       "      <td>0</td>\n",
       "      <td>5850000</td>\n",
       "    </tr>\n",
       "    <tr>\n",
       "      <th>1</th>\n",
       "      <td>2</td>\n",
       "      <td>34</td>\n",
       "      <td>19.0</td>\n",
       "      <td>3.0</td>\n",
       "      <td>Nagatinskij Zaton</td>\n",
       "      <td>3119.0</td>\n",
       "      <td>5</td>\n",
       "      <td>6237.0</td>\n",
       "      <td>8</td>\n",
       "      <td>0</td>\n",
       "      <td>...</td>\n",
       "      <td>0.688796</td>\n",
       "      <td>1.072315</td>\n",
       "      <td>0.273345</td>\n",
       "      <td>0.967821</td>\n",
       "      <td>0.471447</td>\n",
       "      <td>6.829889</td>\n",
       "      <td>0.709260</td>\n",
       "      <td>excellent</td>\n",
       "      <td>0</td>\n",
       "      <td>6000000</td>\n",
       "    </tr>\n",
       "    <tr>\n",
       "      <th>2</th>\n",
       "      <td>3</td>\n",
       "      <td>43</td>\n",
       "      <td>29.0</td>\n",
       "      <td>2.0</td>\n",
       "      <td>Tekstil'shhiki</td>\n",
       "      <td>1463.0</td>\n",
       "      <td>4</td>\n",
       "      <td>5580.0</td>\n",
       "      <td>7</td>\n",
       "      <td>0</td>\n",
       "      <td>...</td>\n",
       "      <td>1.543049</td>\n",
       "      <td>0.391957</td>\n",
       "      <td>0.158072</td>\n",
       "      <td>3.178751</td>\n",
       "      <td>0.755946</td>\n",
       "      <td>4.273200</td>\n",
       "      <td>3.156423</td>\n",
       "      <td>poor</td>\n",
       "      <td>0</td>\n",
       "      <td>5700000</td>\n",
       "    </tr>\n",
       "    <tr>\n",
       "      <th>3</th>\n",
       "      <td>4</td>\n",
       "      <td>89</td>\n",
       "      <td>50.0</td>\n",
       "      <td>9.0</td>\n",
       "      <td>Mitino</td>\n",
       "      <td>6839.0</td>\n",
       "      <td>9</td>\n",
       "      <td>17063.0</td>\n",
       "      <td>10</td>\n",
       "      <td>0</td>\n",
       "      <td>...</td>\n",
       "      <td>0.934273</td>\n",
       "      <td>0.892674</td>\n",
       "      <td>0.236455</td>\n",
       "      <td>1.031777</td>\n",
       "      <td>1.561505</td>\n",
       "      <td>16.990677</td>\n",
       "      <td>16.041521</td>\n",
       "      <td>good</td>\n",
       "      <td>0</td>\n",
       "      <td>13100000</td>\n",
       "    </tr>\n",
       "    <tr>\n",
       "      <th>4</th>\n",
       "      <td>5</td>\n",
       "      <td>77</td>\n",
       "      <td>77.0</td>\n",
       "      <td>4.0</td>\n",
       "      <td>Basmannoe</td>\n",
       "      <td>3240.0</td>\n",
       "      <td>7</td>\n",
       "      <td>7770.0</td>\n",
       "      <td>9</td>\n",
       "      <td>0</td>\n",
       "      <td>...</td>\n",
       "      <td>0.077901</td>\n",
       "      <td>0.810801</td>\n",
       "      <td>0.376838</td>\n",
       "      <td>0.378756</td>\n",
       "      <td>0.121681</td>\n",
       "      <td>1.112486</td>\n",
       "      <td>1.800125</td>\n",
       "      <td>excellent</td>\n",
       "      <td>0</td>\n",
       "      <td>16331452</td>\n",
       "    </tr>\n",
       "    <tr>\n",
       "      <th>...</th>\n",
       "      <td>...</td>\n",
       "      <td>...</td>\n",
       "      <td>...</td>\n",
       "      <td>...</td>\n",
       "      <td>...</td>\n",
       "      <td>...</td>\n",
       "      <td>...</td>\n",
       "      <td>...</td>\n",
       "      <td>...</td>\n",
       "      <td>...</td>\n",
       "      <td>...</td>\n",
       "      <td>...</td>\n",
       "      <td>...</td>\n",
       "      <td>...</td>\n",
       "      <td>...</td>\n",
       "      <td>...</td>\n",
       "      <td>...</td>\n",
       "      <td>...</td>\n",
       "      <td>...</td>\n",
       "      <td>...</td>\n",
       "      <td>...</td>\n",
       "    </tr>\n",
       "    <tr>\n",
       "      <th>30466</th>\n",
       "      <td>30469</td>\n",
       "      <td>44</td>\n",
       "      <td>27.0</td>\n",
       "      <td>7.0</td>\n",
       "      <td>Otradnoe</td>\n",
       "      <td>5088.0</td>\n",
       "      <td>4</td>\n",
       "      <td>12721.0</td>\n",
       "      <td>4</td>\n",
       "      <td>0</td>\n",
       "      <td>...</td>\n",
       "      <td>1.103579</td>\n",
       "      <td>0.167718</td>\n",
       "      <td>0.349899</td>\n",
       "      <td>1.235066</td>\n",
       "      <td>0.612359</td>\n",
       "      <td>7.482165</td>\n",
       "      <td>4.836787</td>\n",
       "      <td>good</td>\n",
       "      <td>0</td>\n",
       "      <td>7400000</td>\n",
       "    </tr>\n",
       "    <tr>\n",
       "      <th>30467</th>\n",
       "      <td>30470</td>\n",
       "      <td>86</td>\n",
       "      <td>59.0</td>\n",
       "      <td>3.0</td>\n",
       "      <td>Tverskoe</td>\n",
       "      <td>1874.0</td>\n",
       "      <td>4</td>\n",
       "      <td>6772.0</td>\n",
       "      <td>4</td>\n",
       "      <td>1</td>\n",
       "      <td>...</td>\n",
       "      <td>0.069986</td>\n",
       "      <td>0.086552</td>\n",
       "      <td>0.362681</td>\n",
       "      <td>0.850385</td>\n",
       "      <td>0.310021</td>\n",
       "      <td>0.778428</td>\n",
       "      <td>1.450108</td>\n",
       "      <td>poor</td>\n",
       "      <td>0</td>\n",
       "      <td>25000000</td>\n",
       "    </tr>\n",
       "    <tr>\n",
       "      <th>30468</th>\n",
       "      <td>30471</td>\n",
       "      <td>45</td>\n",
       "      <td>NaN</td>\n",
       "      <td>10.0</td>\n",
       "      <td>Poselenie Vnukovskoe</td>\n",
       "      <td>NaN</td>\n",
       "      <td>0</td>\n",
       "      <td>NaN</td>\n",
       "      <td>0</td>\n",
       "      <td>0</td>\n",
       "      <td>...</td>\n",
       "      <td>4.338453</td>\n",
       "      <td>1.339078</td>\n",
       "      <td>1.234235</td>\n",
       "      <td>1.192543</td>\n",
       "      <td>1.186621</td>\n",
       "      <td>13.459593</td>\n",
       "      <td>9.890758</td>\n",
       "      <td>no data</td>\n",
       "      <td>0</td>\n",
       "      <td>6970959</td>\n",
       "    </tr>\n",
       "    <tr>\n",
       "      <th>30469</th>\n",
       "      <td>30472</td>\n",
       "      <td>64</td>\n",
       "      <td>32.0</td>\n",
       "      <td>5.0</td>\n",
       "      <td>Obruchevskoe</td>\n",
       "      <td>2372.0</td>\n",
       "      <td>6</td>\n",
       "      <td>6083.0</td>\n",
       "      <td>8</td>\n",
       "      <td>0</td>\n",
       "      <td>...</td>\n",
       "      <td>1.204798</td>\n",
       "      <td>1.340017</td>\n",
       "      <td>0.130667</td>\n",
       "      <td>1.644053</td>\n",
       "      <td>0.476021</td>\n",
       "      <td>2.088193</td>\n",
       "      <td>4.119706</td>\n",
       "      <td>satisfactory</td>\n",
       "      <td>0</td>\n",
       "      <td>13500000</td>\n",
       "    </tr>\n",
       "    <tr>\n",
       "      <th>30470</th>\n",
       "      <td>30473</td>\n",
       "      <td>43</td>\n",
       "      <td>28.0</td>\n",
       "      <td>1.0</td>\n",
       "      <td>Novogireevo</td>\n",
       "      <td>2215.0</td>\n",
       "      <td>4</td>\n",
       "      <td>5824.0</td>\n",
       "      <td>4</td>\n",
       "      <td>0</td>\n",
       "      <td>...</td>\n",
       "      <td>2.108265</td>\n",
       "      <td>0.825811</td>\n",
       "      <td>0.378950</td>\n",
       "      <td>0.480531</td>\n",
       "      <td>0.867332</td>\n",
       "      <td>0.688707</td>\n",
       "      <td>0.127867</td>\n",
       "      <td>poor</td>\n",
       "      <td>0</td>\n",
       "      <td>5600000</td>\n",
       "    </tr>\n",
       "  </tbody>\n",
       "</table>\n",
       "<p>30471 rows × 61 columns</p>\n",
       "</div>"
      ],
      "text/plain": [
       "          id  full_sq  life_sq  floor              sub_area  preschool_quota  \\\n",
       "0          1       43     27.0    4.0              Bibirevo           5001.0   \n",
       "1          2       34     19.0    3.0     Nagatinskij Zaton           3119.0   \n",
       "2          3       43     29.0    2.0        Tekstil'shhiki           1463.0   \n",
       "3          4       89     50.0    9.0                Mitino           6839.0   \n",
       "4          5       77     77.0    4.0             Basmannoe           3240.0   \n",
       "...      ...      ...      ...    ...                   ...              ...   \n",
       "30466  30469       44     27.0    7.0              Otradnoe           5088.0   \n",
       "30467  30470       86     59.0    3.0              Tverskoe           1874.0   \n",
       "30468  30471       45      NaN   10.0  Poselenie Vnukovskoe              NaN   \n",
       "30469  30472       64     32.0    5.0          Obruchevskoe           2372.0   \n",
       "30470  30473       43     28.0    1.0           Novogireevo           2215.0   \n",
       "\n",
       "       preschool_education_centers_raion  school_quota  \\\n",
       "0                                      5       11065.0   \n",
       "1                                      5        6237.0   \n",
       "2                                      4        5580.0   \n",
       "3                                      9       17063.0   \n",
       "4                                      7        7770.0   \n",
       "...                                  ...           ...   \n",
       "30466                                  4       12721.0   \n",
       "30467                                  4        6772.0   \n",
       "30468                                  0           NaN   \n",
       "30469                                  6        6083.0   \n",
       "30470                                  4        5824.0   \n",
       "\n",
       "       school_education_centers_raion  school_education_centers_top_20_raion  \\\n",
       "0                                   5                                      0   \n",
       "1                                   8                                      0   \n",
       "2                                   7                                      0   \n",
       "3                                  10                                      0   \n",
       "4                                   9                                      0   \n",
       "...                               ...                                    ...   \n",
       "30466                               4                                      0   \n",
       "30467                               4                                      1   \n",
       "30468                               0                                      0   \n",
       "30469                               8                                      0   \n",
       "30470                               4                                      0   \n",
       "\n",
       "       ...  office_km  additional_education_km  preschool_km  big_church_km  \\\n",
       "0      ...   0.637189                 0.947962      0.177975       0.625783   \n",
       "1      ...   0.688796                 1.072315      0.273345       0.967821   \n",
       "2      ...   1.543049                 0.391957      0.158072       3.178751   \n",
       "3      ...   0.934273                 0.892674      0.236455       1.031777   \n",
       "4      ...   0.077901                 0.810801      0.376838       0.378756   \n",
       "...    ...        ...                      ...           ...            ...   \n",
       "30466  ...   1.103579                 0.167718      0.349899       1.235066   \n",
       "30467  ...   0.069986                 0.086552      0.362681       0.850385   \n",
       "30468  ...   4.338453                 1.339078      1.234235       1.192543   \n",
       "30469  ...   1.204798                 1.340017      0.130667       1.644053   \n",
       "30470  ...   2.108265                 0.825811      0.378950       0.480531   \n",
       "\n",
       "       church_synagogue_km  theater_km  museum_km       ecology  \\\n",
       "0                 0.628187   14.053047   7.389498          good   \n",
       "1                 0.471447    6.829889   0.709260     excellent   \n",
       "2                 0.755946    4.273200   3.156423          poor   \n",
       "3                 1.561505   16.990677  16.041521          good   \n",
       "4                 0.121681    1.112486   1.800125     excellent   \n",
       "...                    ...         ...        ...           ...   \n",
       "30466             0.612359    7.482165   4.836787          good   \n",
       "30467             0.310021    0.778428   1.450108          poor   \n",
       "30468             1.186621   13.459593   9.890758       no data   \n",
       "30469             0.476021    2.088193   4.119706  satisfactory   \n",
       "30470             0.867332    0.688707   0.127867          poor   \n",
       "\n",
       "      mosque_count_1000 price_doc  \n",
       "0                     0   5850000  \n",
       "1                     0   6000000  \n",
       "2                     0   5700000  \n",
       "3                     0  13100000  \n",
       "4                     0  16331452  \n",
       "...                 ...       ...  \n",
       "30466                 0   7400000  \n",
       "30467                 0  25000000  \n",
       "30468                 0   6970959  \n",
       "30469                 0  13500000  \n",
       "30470                 0   5600000  \n",
       "\n",
       "[30471 rows x 61 columns]"
      ]
     },
     "execution_count": 5,
     "metadata": {},
     "output_type": "execute_result"
    }
   ],
   "source": [
    "sber_data = pd.read_csv('/Users/dasha/Desktop/Skillfactory/IDE/my_data_science/PY_14_Очистка данных/sber_data.csv')\n",
    "sber_data"
   ]
  },
  {
   "cell_type": "code",
   "execution_count": 6,
   "metadata": {},
   "outputs": [
    {
     "name": "stdout",
     "output_type": "stream",
     "text": [
      "<class 'pandas.core.frame.DataFrame'>\n",
      "RangeIndex: 30471 entries, 0 to 30470\n",
      "Data columns (total 61 columns):\n",
      " #   Column                                 Non-Null Count  Dtype  \n",
      "---  ------                                 --------------  -----  \n",
      " 0   id                                     30471 non-null  int64  \n",
      " 1   full_sq                                30471 non-null  int64  \n",
      " 2   life_sq                                24088 non-null  float64\n",
      " 3   floor                                  30304 non-null  float64\n",
      " 4   sub_area                               30471 non-null  object \n",
      " 5   preschool_quota                        23783 non-null  float64\n",
      " 6   preschool_education_centers_raion      30471 non-null  int64  \n",
      " 7   school_quota                           23786 non-null  float64\n",
      " 8   school_education_centers_raion         30471 non-null  int64  \n",
      " 9   school_education_centers_top_20_raion  30471 non-null  int64  \n",
      " 10  hospital_beds_raion                    16030 non-null  float64\n",
      " 11  healthcare_centers_raion               30471 non-null  int64  \n",
      " 12  university_top_20_raion                30471 non-null  int64  \n",
      " 13  sport_objects_raion                    30471 non-null  int64  \n",
      " 14  additional_education_raion             30471 non-null  int64  \n",
      " 15  culture_objects_top_25_raion           30471 non-null  int64  \n",
      " 16  shopping_centers_raion                 30471 non-null  int64  \n",
      " 17  office_raion                           30471 non-null  int64  \n",
      " 18  oil_chemistry_raion                    30471 non-null  object \n",
      " 19  railroad_terminal_raion                30471 non-null  object \n",
      " 20  nuclear_reactor_raion                  30471 non-null  object \n",
      " 21  metro_min_avto                         30471 non-null  float64\n",
      " 22  metro_km_avto                          30471 non-null  float64\n",
      " 23  metro_min_walk                         30446 non-null  float64\n",
      " 24  metro_km_walk                          30446 non-null  float64\n",
      " 25  kindergarten_km                        30471 non-null  float64\n",
      " 26  school_km                              30471 non-null  float64\n",
      " 27  park_km                                30471 non-null  float64\n",
      " 28  green_zone_km                          30471 non-null  float64\n",
      " 29  industrial_km                          30471 non-null  float64\n",
      " 30  railroad_station_walk_km               30446 non-null  float64\n",
      " 31  railroad_station_walk_min              30446 non-null  float64\n",
      " 32  public_transport_station_km            30471 non-null  float64\n",
      " 33  public_transport_station_min_walk      30471 non-null  float64\n",
      " 34  mkad_km                                30471 non-null  float64\n",
      " 35  ttk_km                                 30471 non-null  float64\n",
      " 36  sadovoe_km                             30471 non-null  float64\n",
      " 37  bulvar_ring_km                         30471 non-null  float64\n",
      " 38  kremlin_km                             30471 non-null  float64\n",
      " 39  big_road1_1line                        30471 non-null  object \n",
      " 40  big_market_km                          30471 non-null  float64\n",
      " 41  market_shop_km                         30471 non-null  float64\n",
      " 42  fitness_km                             30471 non-null  float64\n",
      " 43  swim_pool_km                           30471 non-null  float64\n",
      " 44  ice_rink_km                            30471 non-null  float64\n",
      " 45  stadium_km                             30471 non-null  float64\n",
      " 46  basketball_km                          30471 non-null  float64\n",
      " 47  hospice_morgue_km                      30471 non-null  float64\n",
      " 48  university_km                          30471 non-null  float64\n",
      " 49  workplaces_km                          30471 non-null  float64\n",
      " 50  shopping_centers_km                    30471 non-null  float64\n",
      " 51  office_km                              30471 non-null  float64\n",
      " 52  additional_education_km                30471 non-null  float64\n",
      " 53  preschool_km                           30471 non-null  float64\n",
      " 54  big_church_km                          30471 non-null  float64\n",
      " 55  church_synagogue_km                    30471 non-null  float64\n",
      " 56  theater_km                             30471 non-null  float64\n",
      " 57  museum_km                              30471 non-null  float64\n",
      " 58  ecology                                30471 non-null  object \n",
      " 59  mosque_count_1000                      30471 non-null  int64  \n",
      " 60  price_doc                              30471 non-null  int64  \n",
      "dtypes: float64(41), int64(14), object(6)\n",
      "memory usage: 14.2+ MB\n"
     ]
    }
   ],
   "source": [
    "sber_data.info()"
   ]
  },
  {
   "cell_type": "code",
   "execution_count": 8,
   "metadata": {},
   "outputs": [
    {
     "data": {
      "text/html": [
       "<div>\n",
       "<style scoped>\n",
       "    .dataframe tbody tr th:only-of-type {\n",
       "        vertical-align: middle;\n",
       "    }\n",
       "\n",
       "    .dataframe tbody tr th {\n",
       "        vertical-align: top;\n",
       "    }\n",
       "\n",
       "    .dataframe thead th {\n",
       "        text-align: right;\n",
       "    }\n",
       "</style>\n",
       "<table border=\"1\" class=\"dataframe\">\n",
       "  <thead>\n",
       "    <tr style=\"text-align: right;\">\n",
       "      <th></th>\n",
       "      <th>id</th>\n",
       "      <th>full_sq</th>\n",
       "      <th>life_sq</th>\n",
       "      <th>floor</th>\n",
       "      <th>preschool_quota</th>\n",
       "      <th>preschool_education_centers_raion</th>\n",
       "      <th>school_quota</th>\n",
       "      <th>school_education_centers_raion</th>\n",
       "      <th>school_education_centers_top_20_raion</th>\n",
       "      <th>hospital_beds_raion</th>\n",
       "      <th>...</th>\n",
       "      <th>shopping_centers_km</th>\n",
       "      <th>office_km</th>\n",
       "      <th>additional_education_km</th>\n",
       "      <th>preschool_km</th>\n",
       "      <th>big_church_km</th>\n",
       "      <th>church_synagogue_km</th>\n",
       "      <th>theater_km</th>\n",
       "      <th>museum_km</th>\n",
       "      <th>mosque_count_1000</th>\n",
       "      <th>price_doc</th>\n",
       "    </tr>\n",
       "  </thead>\n",
       "  <tbody>\n",
       "    <tr>\n",
       "      <th>count</th>\n",
       "      <td>30471.000000</td>\n",
       "      <td>30471.000000</td>\n",
       "      <td>24088.000000</td>\n",
       "      <td>30304.000000</td>\n",
       "      <td>23783.000000</td>\n",
       "      <td>30471.000000</td>\n",
       "      <td>23786.000000</td>\n",
       "      <td>30471.000000</td>\n",
       "      <td>30471.000000</td>\n",
       "      <td>16030.000000</td>\n",
       "      <td>...</td>\n",
       "      <td>30471.000000</td>\n",
       "      <td>30471.000000</td>\n",
       "      <td>30471.000000</td>\n",
       "      <td>30471.000000</td>\n",
       "      <td>30471.000000</td>\n",
       "      <td>30471.000000</td>\n",
       "      <td>30471.000000</td>\n",
       "      <td>30471.000000</td>\n",
       "      <td>30471.000000</td>\n",
       "      <td>3.047100e+04</td>\n",
       "    </tr>\n",
       "    <tr>\n",
       "      <th>mean</th>\n",
       "      <td>15237.917397</td>\n",
       "      <td>54.214269</td>\n",
       "      <td>34.403271</td>\n",
       "      <td>7.670803</td>\n",
       "      <td>3271.272464</td>\n",
       "      <td>4.065111</td>\n",
       "      <td>8324.970739</td>\n",
       "      <td>4.705031</td>\n",
       "      <td>0.109678</td>\n",
       "      <td>1190.738677</td>\n",
       "      <td>...</td>\n",
       "      <td>1.505808</td>\n",
       "      <td>2.010973</td>\n",
       "      <td>1.328488</td>\n",
       "      <td>1.345235</td>\n",
       "      <td>2.330047</td>\n",
       "      <td>0.972014</td>\n",
       "      <td>9.638074</td>\n",
       "      <td>7.063236</td>\n",
       "      <td>0.019166</td>\n",
       "      <td>7.123035e+06</td>\n",
       "    </tr>\n",
       "    <tr>\n",
       "      <th>std</th>\n",
       "      <td>8796.501536</td>\n",
       "      <td>38.031487</td>\n",
       "      <td>52.285733</td>\n",
       "      <td>5.319989</td>\n",
       "      <td>2169.759592</td>\n",
       "      <td>2.993795</td>\n",
       "      <td>4289.734174</td>\n",
       "      <td>3.445105</td>\n",
       "      <td>0.333328</td>\n",
       "      <td>1057.015001</td>\n",
       "      <td>...</td>\n",
       "      <td>2.253759</td>\n",
       "      <td>2.306446</td>\n",
       "      <td>1.526219</td>\n",
       "      <td>3.053600</td>\n",
       "      <td>2.986937</td>\n",
       "      <td>0.748876</td>\n",
       "      <td>7.112284</td>\n",
       "      <td>5.702807</td>\n",
       "      <td>0.137110</td>\n",
       "      <td>4.780111e+06</td>\n",
       "    </tr>\n",
       "    <tr>\n",
       "      <th>min</th>\n",
       "      <td>1.000000</td>\n",
       "      <td>0.000000</td>\n",
       "      <td>0.000000</td>\n",
       "      <td>0.000000</td>\n",
       "      <td>0.000000</td>\n",
       "      <td>0.000000</td>\n",
       "      <td>1012.000000</td>\n",
       "      <td>0.000000</td>\n",
       "      <td>0.000000</td>\n",
       "      <td>0.000000</td>\n",
       "      <td>...</td>\n",
       "      <td>0.000000</td>\n",
       "      <td>0.000000</td>\n",
       "      <td>0.000000</td>\n",
       "      <td>0.000000</td>\n",
       "      <td>0.004072</td>\n",
       "      <td>0.000000</td>\n",
       "      <td>0.026788</td>\n",
       "      <td>0.007903</td>\n",
       "      <td>0.000000</td>\n",
       "      <td>1.000000e+05</td>\n",
       "    </tr>\n",
       "    <tr>\n",
       "      <th>25%</th>\n",
       "      <td>7620.500000</td>\n",
       "      <td>38.000000</td>\n",
       "      <td>20.000000</td>\n",
       "      <td>3.000000</td>\n",
       "      <td>1874.000000</td>\n",
       "      <td>2.000000</td>\n",
       "      <td>5782.000000</td>\n",
       "      <td>2.000000</td>\n",
       "      <td>0.000000</td>\n",
       "      <td>520.000000</td>\n",
       "      <td>...</td>\n",
       "      <td>0.483758</td>\n",
       "      <td>0.555231</td>\n",
       "      <td>0.474842</td>\n",
       "      <td>0.285124</td>\n",
       "      <td>0.860469</td>\n",
       "      <td>0.532480</td>\n",
       "      <td>4.225254</td>\n",
       "      <td>2.879357</td>\n",
       "      <td>0.000000</td>\n",
       "      <td>4.740002e+06</td>\n",
       "    </tr>\n",
       "    <tr>\n",
       "      <th>50%</th>\n",
       "      <td>15238.000000</td>\n",
       "      <td>49.000000</td>\n",
       "      <td>30.000000</td>\n",
       "      <td>6.500000</td>\n",
       "      <td>2854.000000</td>\n",
       "      <td>4.000000</td>\n",
       "      <td>7377.000000</td>\n",
       "      <td>5.000000</td>\n",
       "      <td>0.000000</td>\n",
       "      <td>990.000000</td>\n",
       "      <td>...</td>\n",
       "      <td>0.839647</td>\n",
       "      <td>1.052999</td>\n",
       "      <td>0.899034</td>\n",
       "      <td>0.493048</td>\n",
       "      <td>1.490794</td>\n",
       "      <td>0.860037</td>\n",
       "      <td>8.612007</td>\n",
       "      <td>5.643495</td>\n",
       "      <td>0.000000</td>\n",
       "      <td>6.274411e+06</td>\n",
       "    </tr>\n",
       "    <tr>\n",
       "      <th>75%</th>\n",
       "      <td>22855.500000</td>\n",
       "      <td>63.000000</td>\n",
       "      <td>43.000000</td>\n",
       "      <td>11.000000</td>\n",
       "      <td>4050.000000</td>\n",
       "      <td>6.000000</td>\n",
       "      <td>9891.000000</td>\n",
       "      <td>7.000000</td>\n",
       "      <td>0.000000</td>\n",
       "      <td>1786.000000</td>\n",
       "      <td>...</td>\n",
       "      <td>1.549517</td>\n",
       "      <td>3.046687</td>\n",
       "      <td>1.571062</td>\n",
       "      <td>0.936324</td>\n",
       "      <td>2.922264</td>\n",
       "      <td>1.248480</td>\n",
       "      <td>13.459593</td>\n",
       "      <td>10.328587</td>\n",
       "      <td>0.000000</td>\n",
       "      <td>8.300000e+06</td>\n",
       "    </tr>\n",
       "    <tr>\n",
       "      <th>max</th>\n",
       "      <td>30473.000000</td>\n",
       "      <td>5326.000000</td>\n",
       "      <td>7478.000000</td>\n",
       "      <td>77.000000</td>\n",
       "      <td>11926.000000</td>\n",
       "      <td>13.000000</td>\n",
       "      <td>24750.000000</td>\n",
       "      <td>14.000000</td>\n",
       "      <td>2.000000</td>\n",
       "      <td>4849.000000</td>\n",
       "      <td>...</td>\n",
       "      <td>26.259543</td>\n",
       "      <td>18.958933</td>\n",
       "      <td>24.268209</td>\n",
       "      <td>47.394706</td>\n",
       "      <td>45.669060</td>\n",
       "      <td>15.615728</td>\n",
       "      <td>87.600690</td>\n",
       "      <td>59.203148</td>\n",
       "      <td>1.000000</td>\n",
       "      <td>1.111111e+08</td>\n",
       "    </tr>\n",
       "  </tbody>\n",
       "</table>\n",
       "<p>8 rows × 55 columns</p>\n",
       "</div>"
      ],
      "text/plain": [
       "                 id       full_sq       life_sq         floor  \\\n",
       "count  30471.000000  30471.000000  24088.000000  30304.000000   \n",
       "mean   15237.917397     54.214269     34.403271      7.670803   \n",
       "std     8796.501536     38.031487     52.285733      5.319989   \n",
       "min        1.000000      0.000000      0.000000      0.000000   \n",
       "25%     7620.500000     38.000000     20.000000      3.000000   \n",
       "50%    15238.000000     49.000000     30.000000      6.500000   \n",
       "75%    22855.500000     63.000000     43.000000     11.000000   \n",
       "max    30473.000000   5326.000000   7478.000000     77.000000   \n",
       "\n",
       "       preschool_quota  preschool_education_centers_raion  school_quota  \\\n",
       "count     23783.000000                       30471.000000  23786.000000   \n",
       "mean       3271.272464                           4.065111   8324.970739   \n",
       "std        2169.759592                           2.993795   4289.734174   \n",
       "min           0.000000                           0.000000   1012.000000   \n",
       "25%        1874.000000                           2.000000   5782.000000   \n",
       "50%        2854.000000                           4.000000   7377.000000   \n",
       "75%        4050.000000                           6.000000   9891.000000   \n",
       "max       11926.000000                          13.000000  24750.000000   \n",
       "\n",
       "       school_education_centers_raion  school_education_centers_top_20_raion  \\\n",
       "count                    30471.000000                           30471.000000   \n",
       "mean                         4.705031                               0.109678   \n",
       "std                          3.445105                               0.333328   \n",
       "min                          0.000000                               0.000000   \n",
       "25%                          2.000000                               0.000000   \n",
       "50%                          5.000000                               0.000000   \n",
       "75%                          7.000000                               0.000000   \n",
       "max                         14.000000                               2.000000   \n",
       "\n",
       "       hospital_beds_raion  ...  shopping_centers_km     office_km  \\\n",
       "count         16030.000000  ...         30471.000000  30471.000000   \n",
       "mean           1190.738677  ...             1.505808      2.010973   \n",
       "std            1057.015001  ...             2.253759      2.306446   \n",
       "min               0.000000  ...             0.000000      0.000000   \n",
       "25%             520.000000  ...             0.483758      0.555231   \n",
       "50%             990.000000  ...             0.839647      1.052999   \n",
       "75%            1786.000000  ...             1.549517      3.046687   \n",
       "max            4849.000000  ...            26.259543     18.958933   \n",
       "\n",
       "       additional_education_km  preschool_km  big_church_km  \\\n",
       "count             30471.000000  30471.000000   30471.000000   \n",
       "mean                  1.328488      1.345235       2.330047   \n",
       "std                   1.526219      3.053600       2.986937   \n",
       "min                   0.000000      0.000000       0.004072   \n",
       "25%                   0.474842      0.285124       0.860469   \n",
       "50%                   0.899034      0.493048       1.490794   \n",
       "75%                   1.571062      0.936324       2.922264   \n",
       "max                  24.268209     47.394706      45.669060   \n",
       "\n",
       "       church_synagogue_km    theater_km     museum_km  mosque_count_1000  \\\n",
       "count         30471.000000  30471.000000  30471.000000       30471.000000   \n",
       "mean              0.972014      9.638074      7.063236           0.019166   \n",
       "std               0.748876      7.112284      5.702807           0.137110   \n",
       "min               0.000000      0.026788      0.007903           0.000000   \n",
       "25%               0.532480      4.225254      2.879357           0.000000   \n",
       "50%               0.860037      8.612007      5.643495           0.000000   \n",
       "75%               1.248480     13.459593     10.328587           0.000000   \n",
       "max              15.615728     87.600690     59.203148           1.000000   \n",
       "\n",
       "          price_doc  \n",
       "count  3.047100e+04  \n",
       "mean   7.123035e+06  \n",
       "std    4.780111e+06  \n",
       "min    1.000000e+05  \n",
       "25%    4.740002e+06  \n",
       "50%    6.274411e+06  \n",
       "75%    8.300000e+06  \n",
       "max    1.111111e+08  \n",
       "\n",
       "[8 rows x 55 columns]"
      ]
     },
     "execution_count": 8,
     "metadata": {},
     "output_type": "execute_result"
    }
   ],
   "source": [
    "sber_data.describe()"
   ]
  },
  {
   "cell_type": "code",
   "execution_count": 45,
   "metadata": {},
   "outputs": [
    {
     "data": {
      "text/plain": [
       "(30471, 61)"
      ]
     },
     "execution_count": 45,
     "metadata": {},
     "output_type": "execute_result"
    }
   ],
   "source": [
    "sber_data.shape"
   ]
  },
  {
   "cell_type": "code",
   "execution_count": 22,
   "metadata": {},
   "outputs": [
    {
     "data": {
      "text/plain": [
       "id                   30471\n",
       "full_sq                211\n",
       "life_sq                175\n",
       "floor                   41\n",
       "sub_area               146\n",
       "                     ...  \n",
       "theater_km           11843\n",
       "museum_km            11852\n",
       "ecology                  5\n",
       "mosque_count_1000        2\n",
       "price_doc             9296\n",
       "Length: 61, dtype: int64"
      ]
     },
     "execution_count": 22,
     "metadata": {},
     "output_type": "execute_result"
    }
   ],
   "source": [
    "sber_data.nunique()"
   ]
  },
  {
   "cell_type": "code",
   "execution_count": 23,
   "metadata": {},
   "outputs": [
    {
     "data": {
      "text/plain": [
       "np.int64(111111112)"
      ]
     },
     "execution_count": 23,
     "metadata": {},
     "output_type": "execute_result"
    }
   ],
   "source": [
    "sber_data['price_doc'].max()"
   ]
  },
  {
   "cell_type": "code",
   "execution_count": 27,
   "metadata": {},
   "outputs": [
    {
     "data": {
      "image/png": "[encoded data removed]",
      "text/plain": [
       "<Figure size 1000x700 with 1 Axes>"
      ]
     },
     "metadata": {},
     "output_type": "display_data"
    }
   ],
   "source": [
    "fig = plt.figure(figsize=(10, 7))\n",
    "boxplot = sns.boxplot(\n",
    "    data=sber_data,\n",
    "    y='ecology',\n",
    "    x='price_doc',\n",
    "    orient='h',\n",
    "    width=0.9\n",
    ")"
   ]
  },
  {
   "cell_type": "code",
   "execution_count": 30,
   "metadata": {},
   "outputs": [
    {
     "data": {
      "image/png": "[encoded data removed]",
      "text/plain": [
       "<Figure size 800x400 with 1 Axes>"
      ]
     },
     "metadata": {},
     "output_type": "display_data"
    }
   ],
   "source": [
    "fig = plt.figure(figsize=(8, 4))\n",
    "axes = fig.add_axes([0, 0, 1, 1])\n",
    "axes.scatter(\n",
    "    x=sber_data['price_doc'], \n",
    "    y=sber_data['kremlin_km'], \n",
    "    s=100,\n",
    "    marker='^',\n",
    "    c = 'red'\n",
    ");"
   ]
  },
  {
   "cell_type": "markdown",
   "metadata": {},
   "source": [
    "В библиотеке pandas специально для этого реализован метод isnull(). Этот метод возвращает новый DataFrame, в ячейках которого стоят булевы значения True и False. True ставится на месте, где ранее находилось значение NaN."
   ]
  },
  {
   "cell_type": "code",
   "execution_count": 32,
   "metadata": {},
   "outputs": [
    {
     "data": {
      "text/html": [
       "<div>\n",
       "<style scoped>\n",
       "    .dataframe tbody tr th:only-of-type {\n",
       "        vertical-align: middle;\n",
       "    }\n",
       "\n",
       "    .dataframe tbody tr th {\n",
       "        vertical-align: top;\n",
       "    }\n",
       "\n",
       "    .dataframe thead th {\n",
       "        text-align: right;\n",
       "    }\n",
       "</style>\n",
       "<table border=\"1\" class=\"dataframe\">\n",
       "  <thead>\n",
       "    <tr style=\"text-align: right;\">\n",
       "      <th></th>\n",
       "      <th>id</th>\n",
       "      <th>full_sq</th>\n",
       "      <th>life_sq</th>\n",
       "      <th>floor</th>\n",
       "      <th>sub_area</th>\n",
       "      <th>preschool_quota</th>\n",
       "      <th>preschool_education_centers_raion</th>\n",
       "      <th>school_quota</th>\n",
       "      <th>school_education_centers_raion</th>\n",
       "      <th>school_education_centers_top_20_raion</th>\n",
       "      <th>...</th>\n",
       "      <th>office_km</th>\n",
       "      <th>additional_education_km</th>\n",
       "      <th>preschool_km</th>\n",
       "      <th>big_church_km</th>\n",
       "      <th>church_synagogue_km</th>\n",
       "      <th>theater_km</th>\n",
       "      <th>museum_km</th>\n",
       "      <th>ecology</th>\n",
       "      <th>mosque_count_1000</th>\n",
       "      <th>price_doc</th>\n",
       "    </tr>\n",
       "  </thead>\n",
       "  <tbody>\n",
       "    <tr>\n",
       "      <th>30466</th>\n",
       "      <td>False</td>\n",
       "      <td>False</td>\n",
       "      <td>False</td>\n",
       "      <td>False</td>\n",
       "      <td>False</td>\n",
       "      <td>False</td>\n",
       "      <td>False</td>\n",
       "      <td>False</td>\n",
       "      <td>False</td>\n",
       "      <td>False</td>\n",
       "      <td>...</td>\n",
       "      <td>False</td>\n",
       "      <td>False</td>\n",
       "      <td>False</td>\n",
       "      <td>False</td>\n",
       "      <td>False</td>\n",
       "      <td>False</td>\n",
       "      <td>False</td>\n",
       "      <td>False</td>\n",
       "      <td>False</td>\n",
       "      <td>False</td>\n",
       "    </tr>\n",
       "    <tr>\n",
       "      <th>30467</th>\n",
       "      <td>False</td>\n",
       "      <td>False</td>\n",
       "      <td>False</td>\n",
       "      <td>False</td>\n",
       "      <td>False</td>\n",
       "      <td>False</td>\n",
       "      <td>False</td>\n",
       "      <td>False</td>\n",
       "      <td>False</td>\n",
       "      <td>False</td>\n",
       "      <td>...</td>\n",
       "      <td>False</td>\n",
       "      <td>False</td>\n",
       "      <td>False</td>\n",
       "      <td>False</td>\n",
       "      <td>False</td>\n",
       "      <td>False</td>\n",
       "      <td>False</td>\n",
       "      <td>False</td>\n",
       "      <td>False</td>\n",
       "      <td>False</td>\n",
       "    </tr>\n",
       "    <tr>\n",
       "      <th>30468</th>\n",
       "      <td>False</td>\n",
       "      <td>False</td>\n",
       "      <td>True</td>\n",
       "      <td>False</td>\n",
       "      <td>False</td>\n",
       "      <td>True</td>\n",
       "      <td>False</td>\n",
       "      <td>True</td>\n",
       "      <td>False</td>\n",
       "      <td>False</td>\n",
       "      <td>...</td>\n",
       "      <td>False</td>\n",
       "      <td>False</td>\n",
       "      <td>False</td>\n",
       "      <td>False</td>\n",
       "      <td>False</td>\n",
       "      <td>False</td>\n",
       "      <td>False</td>\n",
       "      <td>False</td>\n",
       "      <td>False</td>\n",
       "      <td>False</td>\n",
       "    </tr>\n",
       "    <tr>\n",
       "      <th>30469</th>\n",
       "      <td>False</td>\n",
       "      <td>False</td>\n",
       "      <td>False</td>\n",
       "      <td>False</td>\n",
       "      <td>False</td>\n",
       "      <td>False</td>\n",
       "      <td>False</td>\n",
       "      <td>False</td>\n",
       "      <td>False</td>\n",
       "      <td>False</td>\n",
       "      <td>...</td>\n",
       "      <td>False</td>\n",
       "      <td>False</td>\n",
       "      <td>False</td>\n",
       "      <td>False</td>\n",
       "      <td>False</td>\n",
       "      <td>False</td>\n",
       "      <td>False</td>\n",
       "      <td>False</td>\n",
       "      <td>False</td>\n",
       "      <td>False</td>\n",
       "    </tr>\n",
       "    <tr>\n",
       "      <th>30470</th>\n",
       "      <td>False</td>\n",
       "      <td>False</td>\n",
       "      <td>False</td>\n",
       "      <td>False</td>\n",
       "      <td>False</td>\n",
       "      <td>False</td>\n",
       "      <td>False</td>\n",
       "      <td>False</td>\n",
       "      <td>False</td>\n",
       "      <td>False</td>\n",
       "      <td>...</td>\n",
       "      <td>False</td>\n",
       "      <td>False</td>\n",
       "      <td>False</td>\n",
       "      <td>False</td>\n",
       "      <td>False</td>\n",
       "      <td>False</td>\n",
       "      <td>False</td>\n",
       "      <td>False</td>\n",
       "      <td>False</td>\n",
       "      <td>False</td>\n",
       "    </tr>\n",
       "  </tbody>\n",
       "</table>\n",
       "<p>5 rows × 61 columns</p>\n",
       "</div>"
      ],
      "text/plain": [
       "          id  full_sq  life_sq  floor  sub_area  preschool_quota  \\\n",
       "30466  False    False    False  False     False            False   \n",
       "30467  False    False    False  False     False            False   \n",
       "30468  False    False     True  False     False             True   \n",
       "30469  False    False    False  False     False            False   \n",
       "30470  False    False    False  False     False            False   \n",
       "\n",
       "       preschool_education_centers_raion  school_quota  \\\n",
       "30466                              False         False   \n",
       "30467                              False         False   \n",
       "30468                              False          True   \n",
       "30469                              False         False   \n",
       "30470                              False         False   \n",
       "\n",
       "       school_education_centers_raion  school_education_centers_top_20_raion  \\\n",
       "30466                           False                                  False   \n",
       "30467                           False                                  False   \n",
       "30468                           False                                  False   \n",
       "30469                           False                                  False   \n",
       "30470                           False                                  False   \n",
       "\n",
       "       ...  office_km  additional_education_km  preschool_km  big_church_km  \\\n",
       "30466  ...      False                    False         False          False   \n",
       "30467  ...      False                    False         False          False   \n",
       "30468  ...      False                    False         False          False   \n",
       "30469  ...      False                    False         False          False   \n",
       "30470  ...      False                    False         False          False   \n",
       "\n",
       "       church_synagogue_km  theater_km  museum_km  ecology  mosque_count_1000  \\\n",
       "30466                False       False      False    False              False   \n",
       "30467                False       False      False    False              False   \n",
       "30468                False       False      False    False              False   \n",
       "30469                False       False      False    False              False   \n",
       "30470                False       False      False    False              False   \n",
       "\n",
       "       price_doc  \n",
       "30466      False  \n",
       "30467      False  \n",
       "30468      False  \n",
       "30469      False  \n",
       "30470      False  \n",
       "\n",
       "[5 rows x 61 columns]"
      ]
     },
     "metadata": {},
     "output_type": "display_data"
    }
   ],
   "source": [
    "display(sber_data.isnull().tail())"
   ]
  },
  {
   "cell_type": "markdown",
   "metadata": {},
   "source": [
    " Как вы сами понимаете, результат метода isnull() — это, мягко говоря, не самый удобный метод поиска пропусков, однако он является промежуточным этапом других способов, которые мы рассмотрим далее."
   ]
  },
  {
   "cell_type": "markdown",
   "metadata": {},
   "source": [
    "Список столбцов с пропусками\n",
    "Первый способ — это вывести на экран названия столбцов, где число пропусков больше 0. \n",
    "Для этого вычислим средний по столбцам результат метода isnull(). Получим долю пропусков в каждом столбце.\n",
    "\n",
    "True — 1, False — 0, при расчёте среднего получим долю 1 от общего числа строк. \n",
    "\n",
    "Умножаем на 100 %, находим столбцы, где доля пропусков больше 0, сортируем по убыванию и выводим результат:"
   ]
  },
  {
   "cell_type": "code",
   "execution_count": 33,
   "metadata": {},
   "outputs": [
    {
     "data": {
      "text/plain": [
       "hospital_beds_raion          47.392603\n",
       "preschool_quota              21.948738\n",
       "school_quota                 21.938893\n",
       "life_sq                      20.947786\n",
       "floor                         0.548062\n",
       "metro_min_walk                0.082045\n",
       "metro_km_walk                 0.082045\n",
       "railroad_station_walk_km      0.082045\n",
       "railroad_station_walk_min     0.082045\n",
       "dtype: float64"
      ]
     },
     "metadata": {},
     "output_type": "display_data"
    }
   ],
   "source": [
    "cols_null_percent = sber_data.isnull().mean() * 100\n",
    "cols_with_null = cols_null_percent[cols_null_percent>0].sort_values(ascending=False)\n",
    "display(cols_with_null)"
   ]
  },
  {
   "cell_type": "code",
   "execution_count": 43,
   "metadata": {},
   "outputs": [
    {
     "data": {
      "text/plain": [
       "Index(['hospital_beds_raion', 'preschool_quota', 'school_quota', 'life_sq',\n",
       "       'floor', 'metro_min_walk', 'metro_km_walk', 'railroad_station_walk_km',\n",
       "       'railroad_station_walk_min'],\n",
       "      dtype='object')"
      ]
     },
     "metadata": {},
     "output_type": "display_data"
    }
   ],
   "source": [
    "display(cols_with_null.index)"
   ]
  },
  {
   "cell_type": "markdown",
   "metadata": {},
   "source": [
    "Столбчатая диаграмма пропусков\n",
    "Иногда столбцов с пропусками становится слишком много и прочитать информацию о них из списка признаков с цифрами становится слишком затруднительно — цифры начинают сливаться воедино. \n",
    "\n",
    "Можно воспользоваться столбчатой диаграммой, чтобы визуально оценить соотношение числа пропусков к числу записей. Самый быстрый способ построить её — использовать метод plot():"
   ]
  },
  {
   "cell_type": "code",
   "execution_count": 34,
   "metadata": {},
   "outputs": [
    {
     "data": {
      "image/png": "[encoded data removed]",
      "text/plain": [
       "<Figure size 1000x400 with 1 Axes>"
      ]
     },
     "metadata": {},
     "output_type": "display_data"
    }
   ],
   "source": [
    "cols_with_null.plot(\n",
    "    kind='bar',\n",
    "    figsize=(10, 4),\n",
    "    title='Распределение пропусков в данных'\n",
    ");"
   ]
  },
  {
   "cell_type": "markdown",
   "metadata": {},
   "source": [
    "Тепловая карта пропусков \n",
    "\n",
    "Ещё один распространённый способ визуализации пропусков — тепловая карта. \n",
    "\n",
    "Её часто используют, когда столбцов с пропусками не так много (меньше 10). Она позволяет понять не только соотношение пропусков в данных, но и их характерное местоположение в таблице. \n",
    "\n",
    "Для создания такой тепловой карты можно воспользоваться результатом метода isnull(). Ячейки таблицы, в которых есть пропуск, будем отмечать жёлтым цветом, а остальные — синим. Для этого создадим собственную палитру цветов тепловой карты с помощью метода color_pallete() из библиотеки seaborn."
   ]
  },
  {
   "cell_type": "code",
   "execution_count": 35,
   "metadata": {},
   "outputs": [
    {
     "data": {
      "image/png": "[encoded data removed]",
      "text/plain": [
       "<Figure size 1000x400 with 2 Axes>"
      ]
     },
     "metadata": {},
     "output_type": "display_data"
    }
   ],
   "source": [
    "colors = ['blue', 'yellow'] \n",
    "fig = plt.figure(figsize=(10, 4))\n",
    "cols = cols_with_null.index\n",
    "ax = sns.heatmap(\n",
    "    sber_data[cols].isnull(),\n",
    "    cmap=sns.color_palette(colors),\n",
    ")"
   ]
  },
  {
   "cell_type": "markdown",
   "metadata": {},
   "source": [
    "№№ Методы обработки пропущенных значений"
   ]
  },
  {
   "cell_type": "markdown",
   "metadata": {},
   "source": [
    "Отбрасывание записей и признаков\n",
    "\n",
    "Первая техника — самая простая из всех. Она предполагает простое удаление записей или признаков, в которых содержатся пропуски. \n",
    "\n",
    "Здесь важно правильно выбрать ось удаления: если мы избавимся от большого числа строк, то рискуем потерять важные данные, а если мы удалим столбцы, то можем потерять важные признаки.\n",
    "\n",
    "Специалисты рекомендуют при использовании метода удаления придерживаться следующих правил: удаляйте столбец, если число пропусков в нем более 30-40 %. В остальных случаях лучше удалять записи."
   ]
  },
  {
   "cell_type": "markdown",
   "metadata": {},
   "source": [
    "Для удаления строк и столбцов будем использовать метод dropna(), который позволяет удалять пропуски с тонким подходом к настройке. \n",
    "\n",
    "Основные параметры метода:\n",
    "\n",
    "    axis — ось, по которой производится удаление (по умолчанию 0 — строки).\n",
    "    how — как производится удаление строк (any — если хотя бы в одном из столбцов есть пропуск, стоит по умолчанию; all — если во всех столбцах есть пропуски). \n",
    "   thresh — порог удаления. Определяет минимальное число непустых значений в строке/столбце, при котором она/он сохраняется. Например, если мы установим thresh в значение n-2, то мы удалим строки, где число пропусков больше чем n-2, где n — число признаков (если axis=0)."
   ]
  },
  {
   "cell_type": "markdown",
   "metadata": {},
   "source": [
    "Примечание: Начиная с версии 1.5.0 Pandas запрещает одновременно устанавливать параметры how и thresh. При использовании этих параметров одновременно возникает ошибка:\n",
    "TypeError: You cannot set both the how and thresh arguments at the same time.\n",
    "Это связано с тем, что, например, если установить параметр how='all' и установить thresh в какое-то конкретное значение, то возникает противоречие: мы будем пытаться удалить столбцы/строки, одновременно при условии, что во всех столбцах/строках есть пропуски, но при этом стоит ограничение константой thresh. Метод dropna() не понимает, как действовать - какое ограничение принять за основное в таких случаях - и поэтому в новой версии библиотеки было решено запретить формирование таких условий."
   ]
  },
  {
   "cell_type": "markdown",
   "metadata": {},
   "source": [
    "Предварительно создадим копию исходной таблицы — drop_data, чтобы не повредить её. Зададимся порогом в 70 %: будем оставлять только те столбцы, в которых 70 и более процентов записей не являются пустыми . После этого удалим записи, в которых содержится хотя бы один пропуск. Наконец, выведем информацию о числе пропусков и наслаждаемся нулями. "
   ]
  },
  {
   "cell_type": "code",
   "execution_count": 36,
   "metadata": {},
   "outputs": [
    {
     "data": {
      "text/plain": [
       "id                                       0.0\n",
       "full_sq                                  0.0\n",
       "life_sq                                  0.0\n",
       "floor                                    0.0\n",
       "sub_area                                 0.0\n",
       "preschool_quota                          0.0\n",
       "preschool_education_centers_raion        0.0\n",
       "school_quota                             0.0\n",
       "school_education_centers_raion           0.0\n",
       "school_education_centers_top_20_raion    0.0\n",
       "healthcare_centers_raion                 0.0\n",
       "university_top_20_raion                  0.0\n",
       "sport_objects_raion                      0.0\n",
       "additional_education_raion               0.0\n",
       "culture_objects_top_25_raion             0.0\n",
       "shopping_centers_raion                   0.0\n",
       "office_raion                             0.0\n",
       "oil_chemistry_raion                      0.0\n",
       "railroad_terminal_raion                  0.0\n",
       "nuclear_reactor_raion                    0.0\n",
       "metro_min_avto                           0.0\n",
       "metro_km_avto                            0.0\n",
       "metro_min_walk                           0.0\n",
       "metro_km_walk                            0.0\n",
       "kindergarten_km                          0.0\n",
       "school_km                                0.0\n",
       "park_km                                  0.0\n",
       "green_zone_km                            0.0\n",
       "industrial_km                            0.0\n",
       "railroad_station_walk_km                 0.0\n",
       "railroad_station_walk_min                0.0\n",
       "public_transport_station_km              0.0\n",
       "public_transport_station_min_walk        0.0\n",
       "mkad_km                                  0.0\n",
       "ttk_km                                   0.0\n",
       "sadovoe_km                               0.0\n",
       "bulvar_ring_km                           0.0\n",
       "kremlin_km                               0.0\n",
       "big_road1_1line                          0.0\n",
       "big_market_km                            0.0\n",
       "market_shop_km                           0.0\n",
       "fitness_km                               0.0\n",
       "swim_pool_km                             0.0\n",
       "ice_rink_km                              0.0\n",
       "stadium_km                               0.0\n",
       "basketball_km                            0.0\n",
       "hospice_morgue_km                        0.0\n",
       "university_km                            0.0\n",
       "workplaces_km                            0.0\n",
       "shopping_centers_km                      0.0\n",
       "office_km                                0.0\n",
       "additional_education_km                  0.0\n",
       "preschool_km                             0.0\n",
       "big_church_km                            0.0\n",
       "church_synagogue_km                      0.0\n",
       "theater_km                               0.0\n",
       "museum_km                                0.0\n",
       "ecology                                  0.0\n",
       "mosque_count_1000                        0.0\n",
       "price_doc                                0.0\n",
       "dtype: float64"
      ]
     },
     "execution_count": 36,
     "metadata": {},
     "output_type": "execute_result"
    }
   ],
   "source": [
    "#создаем копию исходной таблицы\n",
    "drop_data = sber_data.copy()\n",
    "#задаем минимальный порог: вычисляем 70% от числа строк\n",
    "thresh = drop_data.shape[0]*0.7\n",
    "#удаляем столбцы, в которых более 30% (100-70) пропусков\n",
    "drop_data = drop_data.dropna(thresh=thresh, axis=1)\n",
    "#удаляем записи, в которых есть хотя бы 1 пропуск\n",
    "drop_data = drop_data.dropna(how='any', axis=0)\n",
    "#отображаем результирующую долю пропусков\n",
    "drop_data.isnull().mean()"
   ]
  },
  {
   "cell_type": "code",
   "execution_count": 37,
   "metadata": {},
   "outputs": [
    {
     "name": "stdout",
     "output_type": "stream",
     "text": [
      "(20888, 60)\n"
     ]
    }
   ],
   "source": [
    "print(drop_data.shape)"
   ]
  },
  {
   "cell_type": "markdown",
   "metadata": {},
   "source": [
    "Итак, мы удалили один столбец и ⅓ всех записей для того, чтобы избавиться от пропусков. Не слишком ли это много и что с этим можно сделать?"
   ]
  },
  {
   "cell_type": "markdown",
   "metadata": {},
   "source": [
    "Заполнение недостающих значений константами\n",
    "\n",
    "Чтобы дырявая бочка не протекала, вставьте в дырку пробку. С этой мыслью связан другой способ бороться с пропусками — заполнение константами. \n",
    "\n",
    "Чаще всего пустые места заполняют средним/медианой/модой для числовых признаков и модальным значением для категориальных признаков. "
   ]
  },
  {
   "cell_type": "markdown",
   "metadata": {},
   "source": [
    "Вся сложность заключается в выборе метода заполнения.\n",
    "\n",
    "!!! Важным фактором при выборе метода является распределение признаков с пропусками. Давайте выведем их на экран. "
   ]
  },
  {
   "cell_type": "code",
   "execution_count": 38,
   "metadata": {},
   "outputs": [
    {
     "data": {
      "image/png": "[encoded data removed]",
      "text/plain": [
       "<Figure size 2000x800 with 9 Axes>"
      ]
     },
     "metadata": {},
     "output_type": "display_data"
    }
   ],
   "source": [
    "cols = cols_with_null.index\n",
    "sber_data[cols].hist(figsize=(20, 8));"
   ]
  },
  {
   "cell_type": "markdown",
   "metadata": {},
   "source": [
    "\n",
    "\n",
    "Итак, рассмотрим несколько рекомендаций.\n",
    "\n",
    "        Для распределений, похожих на логнормальное, где пик близ нуля, а далее наблюдается постепенный спад частоты, высока вероятность наличия выбросов (о них мы поговорим чуть позже). \n",
    "        \n",
    "        Математически доказывается, что среднее очень чувствительно к выбросам, а вот медиана — нет. Поэтому предпочтительнее использовать медианное значение для таких признаков.\n",
    "\n",
    "        Если признак числовой и дискретный (например, число этажей, школьная квота), то их заполнение средним/медианой является ошибочным, так как может получиться число, которое не может являться значением этого признака. Например, количество этажей — целочисленный признак, а расчёт среднего может дать 2.871. Поэтому такой признак заполняют либо модой, либо округляют до целого числа (или нужного количества знаков после запятой) среднее/медиану.\n",
    "\n",
    "        Категориальные признаки заполняются либо модальным значением, либо, если вы хотите оставить информацию о пропуске в данных, значением 'unknown'. На наше счастье, пропусков в категориях у нас нет.\n",
    "        \n",
    "        Иногда в данных бывает такой признак, основываясь на котором, можно заполнить пропуски в другом. Например, в наших данных есть признак full_sq (общая площадь квартиры). Давайте исходить из предположения, что, если жилая площадь (life_sq) неизвестна, то она будет равна суммарной площади!\n",
    "\n"
   ]
  },
  {
   "cell_type": "markdown",
   "metadata": {},
   "source": [
    "Заполнение значений осуществляется с помощью метода fillna(). Главный параметр метода — value (значение, на которое происходит заполнение данных в столбце). Если метод вызывается от имени всего DataFrame, то в качестве value можно использовать словарь, где ключи — названия столбцов таблицы, а значения словаря — заполняющие константы. "
   ]
  },
  {
   "cell_type": "code",
   "execution_count": 39,
   "metadata": {},
   "outputs": [
    {
     "data": {
      "text/plain": [
       "id                   0.0\n",
       "full_sq              0.0\n",
       "life_sq              0.0\n",
       "floor                0.0\n",
       "sub_area             0.0\n",
       "                    ... \n",
       "theater_km           0.0\n",
       "museum_km            0.0\n",
       "ecology              0.0\n",
       "mosque_count_1000    0.0\n",
       "price_doc            0.0\n",
       "Length: 61, dtype: float64"
      ]
     },
     "execution_count": 39,
     "metadata": {},
     "output_type": "execute_result"
    }
   ],
   "source": [
    "#создаем копию исходной таблицы\n",
    "fill_data = sber_data.copy()\n",
    "#создаем словарь имя столбца: число(признак) на который надо заменить пропуски\n",
    "values = {\n",
    "    'life_sq': fill_data['full_sq'],\n",
    "    'metro_min_walk': fill_data['metro_min_walk'].median(),\n",
    "    'metro_km_walk': fill_data['metro_km_walk'].median(),\n",
    "    'railroad_station_walk_km': fill_data['railroad_station_walk_km'].median(),\n",
    "    'railroad_station_walk_min': fill_data['railroad_station_walk_min'].median(),\n",
    "    'hospital_beds_raion': fill_data['hospital_beds_raion'].mode()[0],\n",
    "    'preschool_quota': fill_data['preschool_quota'].mode()[0],\n",
    "    'school_quota': fill_data['school_quota'].mode()[0],\n",
    "    'floor': fill_data['floor'].mode()[0]\n",
    "}\n",
    "#заполняем пропуски в соответствии с заявленным словарем\n",
    "fill_data = fill_data.fillna(values)\n",
    "#выводим результирующую долю пропусков\n",
    "fill_data.isnull().mean()"
   ]
  },
  {
   "cell_type": "code",
   "execution_count": 40,
   "metadata": {},
   "outputs": [
    {
     "data": {
      "image/png": "[encoded data removed]",
      "text/plain": [
       "<Figure size 2000x800 with 9 Axes>"
      ]
     },
     "metadata": {},
     "output_type": "display_data"
    }
   ],
   "source": [
    "cols = cols_with_null.index\n",
    "fill_data[cols].hist(figsize=(20, 8));"
   ]
  },
  {
   "cell_type": "markdown",
   "metadata": {},
   "source": [
    "Обратите внимание на то, как сильно изменилось распределение для признака hospital_beds_raion. Это связано с тем, что мы заполнили модальным значением почти 47 % общих данных. В результате мы кардинально исказили исходное распределение признака, что может плохо сказаться на модели.\n",
    "\n",
    "Недостаток метода заполнения константой состоит в том, что мы можем «нафантазировать» новые данные, которые не учитывают истинного распределения."
   ]
  },
  {
   "cell_type": "markdown",
   "metadata": {},
   "source": [
    "Заполнение недостающих значений константами с добавлением индикатора\n",
    "\n",
    "Если мы используем заполнение пропусков константами, может быть, имеет смысл сказать модели о том, что на этом месте был пропуск? \n",
    "\n",
    "Давайте добавим к нашим данным признаки-индикаторы, которые будут сигнализировать о том, что в столбце на определённом месте в таблице был пропуск. Это место в столбце-индикаторе будем помечать как True. \n",
    "\n",
    "Эта эвристика пытается снизить влияние искажения признака, указав модели на места, где мы «нафантазировали» данные."
   ]
  },
  {
   "cell_type": "markdown",
   "metadata": {},
   "source": [
    "Посмотрим на реализацию. Как обычно, создадим копию indicator_data исходной таблицы. В цикле пройдёмся по столбцам с пропусками и будем добавлять в таблицу новый признак (с припиской \"was_null\"), который получается из исходного с помощью применения метода isnull(). После чего произведём обычное заполнение пропусков, которое мы совершали ранее, и выведем на экран число отсутствующих значений в столбце, чтобы убедиться в результате:"
   ]
  },
  {
   "cell_type": "code",
   "execution_count": 41,
   "metadata": {},
   "outputs": [
    {
     "data": {
      "text/plain": [
       "id                                    0.0\n",
       "full_sq                               0.0\n",
       "life_sq                               0.0\n",
       "floor                                 0.0\n",
       "sub_area                              0.0\n",
       "                                     ... \n",
       "floor_was_null                        0.0\n",
       "metro_min_walk_was_null               0.0\n",
       "metro_km_walk_was_null                0.0\n",
       "railroad_station_walk_km_was_null     0.0\n",
       "railroad_station_walk_min_was_null    0.0\n",
       "Length: 70, dtype: float64"
      ]
     },
     "execution_count": 41,
     "metadata": {},
     "output_type": "execute_result"
    }
   ],
   "source": [
    "#создаем копию исходной таблицы\n",
    "indicator_data = sber_data.copy()\n",
    "#в цикле пробегаемся по названиям столбцов с пропусками\n",
    "for col in cols_with_null.index:\n",
    "    #создаем новый признак-индикатор как col_was_null\n",
    "    indicator_data[col + '_was_null'] = indicator_data[col].isnull()\n",
    "#создаем словарь имя столбца: число(признак) на который надо заменить пропуски   \n",
    "values = {\n",
    "    'life_sq': indicator_data['full_sq'],\n",
    "    'metro_min_walk': indicator_data['metro_min_walk'].median(),\n",
    "    'metro_km_walk': indicator_data['metro_km_walk'].median(),\n",
    "    'railroad_station_walk_km': indicator_data['railroad_station_walk_km'].median(),\n",
    "    'railroad_station_walk_min': indicator_data['railroad_station_walk_min'].median(),\n",
    "    'hospital_beds_raion': indicator_data['hospital_beds_raion'].mode()[0],\n",
    "    'preschool_quota': indicator_data['preschool_quota'].mode()[0],\n",
    "    'school_quota': indicator_data['school_quota'].mode()[0],\n",
    "    'floor': indicator_data['floor'].mode()[0]\n",
    "}\n",
    "#заполняем пропуски в соответствии с заявленным словарем\n",
    "indicator_data = indicator_data.fillna(values)\n",
    "#выводим результирующую долю пропусков\n",
    "indicator_data.isnull().mean()"
   ]
  },
  {
   "cell_type": "code",
   "execution_count": 42,
   "metadata": {},
   "outputs": [
    {
     "data": {
      "text/html": [
       "<div>\n",
       "<style scoped>\n",
       "    .dataframe tbody tr th:only-of-type {\n",
       "        vertical-align: middle;\n",
       "    }\n",
       "\n",
       "    .dataframe tbody tr th {\n",
       "        vertical-align: top;\n",
       "    }\n",
       "\n",
       "    .dataframe thead th {\n",
       "        text-align: right;\n",
       "    }\n",
       "</style>\n",
       "<table border=\"1\" class=\"dataframe\">\n",
       "  <thead>\n",
       "    <tr style=\"text-align: right;\">\n",
       "      <th></th>\n",
       "      <th>id</th>\n",
       "      <th>full_sq</th>\n",
       "      <th>life_sq</th>\n",
       "      <th>floor</th>\n",
       "      <th>sub_area</th>\n",
       "      <th>preschool_quota</th>\n",
       "      <th>preschool_education_centers_raion</th>\n",
       "      <th>school_quota</th>\n",
       "      <th>school_education_centers_raion</th>\n",
       "      <th>school_education_centers_top_20_raion</th>\n",
       "      <th>...</th>\n",
       "      <th>price_doc</th>\n",
       "      <th>hospital_beds_raion_was_null</th>\n",
       "      <th>preschool_quota_was_null</th>\n",
       "      <th>school_quota_was_null</th>\n",
       "      <th>life_sq_was_null</th>\n",
       "      <th>floor_was_null</th>\n",
       "      <th>metro_min_walk_was_null</th>\n",
       "      <th>metro_km_walk_was_null</th>\n",
       "      <th>railroad_station_walk_km_was_null</th>\n",
       "      <th>railroad_station_walk_min_was_null</th>\n",
       "    </tr>\n",
       "  </thead>\n",
       "  <tbody>\n",
       "    <tr>\n",
       "      <th>0</th>\n",
       "      <td>1</td>\n",
       "      <td>43</td>\n",
       "      <td>27.0</td>\n",
       "      <td>4.0</td>\n",
       "      <td>Bibirevo</td>\n",
       "      <td>5001.0</td>\n",
       "      <td>5</td>\n",
       "      <td>11065.0</td>\n",
       "      <td>5</td>\n",
       "      <td>0</td>\n",
       "      <td>...</td>\n",
       "      <td>5850000</td>\n",
       "      <td>False</td>\n",
       "      <td>False</td>\n",
       "      <td>False</td>\n",
       "      <td>False</td>\n",
       "      <td>False</td>\n",
       "      <td>False</td>\n",
       "      <td>False</td>\n",
       "      <td>False</td>\n",
       "      <td>False</td>\n",
       "    </tr>\n",
       "    <tr>\n",
       "      <th>1</th>\n",
       "      <td>2</td>\n",
       "      <td>34</td>\n",
       "      <td>19.0</td>\n",
       "      <td>3.0</td>\n",
       "      <td>Nagatinskij Zaton</td>\n",
       "      <td>3119.0</td>\n",
       "      <td>5</td>\n",
       "      <td>6237.0</td>\n",
       "      <td>8</td>\n",
       "      <td>0</td>\n",
       "      <td>...</td>\n",
       "      <td>6000000</td>\n",
       "      <td>False</td>\n",
       "      <td>False</td>\n",
       "      <td>False</td>\n",
       "      <td>False</td>\n",
       "      <td>False</td>\n",
       "      <td>False</td>\n",
       "      <td>False</td>\n",
       "      <td>False</td>\n",
       "      <td>False</td>\n",
       "    </tr>\n",
       "    <tr>\n",
       "      <th>2</th>\n",
       "      <td>3</td>\n",
       "      <td>43</td>\n",
       "      <td>29.0</td>\n",
       "      <td>2.0</td>\n",
       "      <td>Tekstil'shhiki</td>\n",
       "      <td>1463.0</td>\n",
       "      <td>4</td>\n",
       "      <td>5580.0</td>\n",
       "      <td>7</td>\n",
       "      <td>0</td>\n",
       "      <td>...</td>\n",
       "      <td>5700000</td>\n",
       "      <td>False</td>\n",
       "      <td>False</td>\n",
       "      <td>False</td>\n",
       "      <td>False</td>\n",
       "      <td>False</td>\n",
       "      <td>False</td>\n",
       "      <td>False</td>\n",
       "      <td>False</td>\n",
       "      <td>False</td>\n",
       "    </tr>\n",
       "    <tr>\n",
       "      <th>3</th>\n",
       "      <td>4</td>\n",
       "      <td>89</td>\n",
       "      <td>50.0</td>\n",
       "      <td>9.0</td>\n",
       "      <td>Mitino</td>\n",
       "      <td>6839.0</td>\n",
       "      <td>9</td>\n",
       "      <td>17063.0</td>\n",
       "      <td>10</td>\n",
       "      <td>0</td>\n",
       "      <td>...</td>\n",
       "      <td>13100000</td>\n",
       "      <td>True</td>\n",
       "      <td>False</td>\n",
       "      <td>False</td>\n",
       "      <td>False</td>\n",
       "      <td>False</td>\n",
       "      <td>False</td>\n",
       "      <td>False</td>\n",
       "      <td>False</td>\n",
       "      <td>False</td>\n",
       "    </tr>\n",
       "    <tr>\n",
       "      <th>4</th>\n",
       "      <td>5</td>\n",
       "      <td>77</td>\n",
       "      <td>77.0</td>\n",
       "      <td>4.0</td>\n",
       "      <td>Basmannoe</td>\n",
       "      <td>3240.0</td>\n",
       "      <td>7</td>\n",
       "      <td>7770.0</td>\n",
       "      <td>9</td>\n",
       "      <td>0</td>\n",
       "      <td>...</td>\n",
       "      <td>16331452</td>\n",
       "      <td>False</td>\n",
       "      <td>False</td>\n",
       "      <td>False</td>\n",
       "      <td>False</td>\n",
       "      <td>False</td>\n",
       "      <td>False</td>\n",
       "      <td>False</td>\n",
       "      <td>False</td>\n",
       "      <td>False</td>\n",
       "    </tr>\n",
       "  </tbody>\n",
       "</table>\n",
       "<p>5 rows × 70 columns</p>\n",
       "</div>"
      ],
      "text/plain": [
       "   id  full_sq  life_sq  floor           sub_area  preschool_quota  \\\n",
       "0   1       43     27.0    4.0           Bibirevo           5001.0   \n",
       "1   2       34     19.0    3.0  Nagatinskij Zaton           3119.0   \n",
       "2   3       43     29.0    2.0     Tekstil'shhiki           1463.0   \n",
       "3   4       89     50.0    9.0             Mitino           6839.0   \n",
       "4   5       77     77.0    4.0          Basmannoe           3240.0   \n",
       "\n",
       "   preschool_education_centers_raion  school_quota  \\\n",
       "0                                  5       11065.0   \n",
       "1                                  5        6237.0   \n",
       "2                                  4        5580.0   \n",
       "3                                  9       17063.0   \n",
       "4                                  7        7770.0   \n",
       "\n",
       "   school_education_centers_raion  school_education_centers_top_20_raion  ...  \\\n",
       "0                               5                                      0  ...   \n",
       "1                               8                                      0  ...   \n",
       "2                               7                                      0  ...   \n",
       "3                              10                                      0  ...   \n",
       "4                               9                                      0  ...   \n",
       "\n",
       "   price_doc  hospital_beds_raion_was_null  preschool_quota_was_null  \\\n",
       "0    5850000                         False                     False   \n",
       "1    6000000                         False                     False   \n",
       "2    5700000                         False                     False   \n",
       "3   13100000                          True                     False   \n",
       "4   16331452                         False                     False   \n",
       "\n",
       "   school_quota_was_null  life_sq_was_null  floor_was_null  \\\n",
       "0                  False             False           False   \n",
       "1                  False             False           False   \n",
       "2                  False             False           False   \n",
       "3                  False             False           False   \n",
       "4                  False             False           False   \n",
       "\n",
       "   metro_min_walk_was_null  metro_km_walk_was_null  \\\n",
       "0                    False                   False   \n",
       "1                    False                   False   \n",
       "2                    False                   False   \n",
       "3                    False                   False   \n",
       "4                    False                   False   \n",
       "\n",
       "  railroad_station_walk_km_was_null railroad_station_walk_min_was_null  \n",
       "0                             False                              False  \n",
       "1                             False                              False  \n",
       "2                             False                              False  \n",
       "3                             False                              False  \n",
       "4                             False                              False  \n",
       "\n",
       "[5 rows x 70 columns]"
      ]
     },
     "metadata": {},
     "output_type": "display_data"
    }
   ],
   "source": [
    "display(indicator_data.head())"
   ]
  },
  {
   "cell_type": "markdown",
   "metadata": {},
   "source": [
    "Метод исходит из предположения, что, если дать модели информацию о том, что в ячейке ранее была пустота, то она будет меньше доверять таким записям и меньше учитывать её в процессе обучения. Иногда такие фишки действительно работают, иногда не дают эффекта, а иногда и вовсе могут ухудшить результат обучения и затруднить процесс обучения."
   ]
  },
  {
   "cell_type": "markdown",
   "metadata": {},
   "source": [
    "Когда мы добавляем признаки-индикаторы, мы повышаем размерность наших данных. Теперь представьте, что столбцов с пропусками сотня, по паре штук в каждом. "
   ]
  },
  {
   "cell_type": "markdown",
   "metadata": {},
   "source": [
    "Проклятие размерности гласит, что, увеличивая размерность функции, мы повышаем сложность поиска этого минимума и рискуем вовсе не найти его! Об этом страшном проклятии мы ещё будем говорить в курсе по ML и даже попробуем его победить. Но об этом чуть позже.\n",
    "\n",
    "Однако, несмотря на свои недостатки, этот метод кажется наиболее логичным из предложенных ранее и часто используется в очистке данных."
   ]
  },
  {
   "cell_type": "markdown",
   "metadata": {},
   "source": [
    "Комбинирование методов\n",
    "\n",
    "Наверняка вы уже догадались, что необязательно использовать один метод. Вы можете их комбинировать. Например, мы можем:\n",
    "\n",
    "    удалить столбцы, в которых более 30 % пропусков;\n",
    "    удалить записи, в которых более двух пропусков одновременно;\n",
    "    заполнить оставшиеся ячейки константами.\n",
    "\n",
    "Посмотрим на реализацию такого подхода в коде:"
   ]
  },
  {
   "cell_type": "code",
   "execution_count": 46,
   "metadata": {},
   "outputs": [
    {
     "data": {
      "text/plain": [
       "id                                       0.0\n",
       "full_sq                                  0.0\n",
       "life_sq                                  0.0\n",
       "floor                                    0.0\n",
       "sub_area                                 0.0\n",
       "preschool_quota                          0.0\n",
       "preschool_education_centers_raion        0.0\n",
       "school_quota                             0.0\n",
       "school_education_centers_raion           0.0\n",
       "school_education_centers_top_20_raion    0.0\n",
       "healthcare_centers_raion                 0.0\n",
       "university_top_20_raion                  0.0\n",
       "sport_objects_raion                      0.0\n",
       "additional_education_raion               0.0\n",
       "culture_objects_top_25_raion             0.0\n",
       "shopping_centers_raion                   0.0\n",
       "office_raion                             0.0\n",
       "oil_chemistry_raion                      0.0\n",
       "railroad_terminal_raion                  0.0\n",
       "nuclear_reactor_raion                    0.0\n",
       "metro_min_avto                           0.0\n",
       "metro_km_avto                            0.0\n",
       "metro_min_walk                           0.0\n",
       "metro_km_walk                            0.0\n",
       "kindergarten_km                          0.0\n",
       "school_km                                0.0\n",
       "park_km                                  0.0\n",
       "green_zone_km                            0.0\n",
       "industrial_km                            0.0\n",
       "railroad_station_walk_km                 0.0\n",
       "railroad_station_walk_min                0.0\n",
       "public_transport_station_km              0.0\n",
       "public_transport_station_min_walk        0.0\n",
       "mkad_km                                  0.0\n",
       "ttk_km                                   0.0\n",
       "sadovoe_km                               0.0\n",
       "bulvar_ring_km                           0.0\n",
       "kremlin_km                               0.0\n",
       "big_road1_1line                          0.0\n",
       "big_market_km                            0.0\n",
       "market_shop_km                           0.0\n",
       "fitness_km                               0.0\n",
       "swim_pool_km                             0.0\n",
       "ice_rink_km                              0.0\n",
       "stadium_km                               0.0\n",
       "basketball_km                            0.0\n",
       "hospice_morgue_km                        0.0\n",
       "university_km                            0.0\n",
       "workplaces_km                            0.0\n",
       "shopping_centers_km                      0.0\n",
       "office_km                                0.0\n",
       "additional_education_km                  0.0\n",
       "preschool_km                             0.0\n",
       "big_church_km                            0.0\n",
       "church_synagogue_km                      0.0\n",
       "theater_km                               0.0\n",
       "museum_km                                0.0\n",
       "ecology                                  0.0\n",
       "mosque_count_1000                        0.0\n",
       "price_doc                                0.0\n",
       "dtype: float64"
      ]
     },
     "metadata": {},
     "output_type": "display_data"
    }
   ],
   "source": [
    "#создаём копию исходной таблицы\n",
    "combine_data = sber_data.copy()\n",
    "\n",
    "#отбрасываем столбцы с числом пропусков более 30% (100-70)\n",
    "n = combine_data.shape[0] #число строк в таблице\n",
    "thresh = n*0.7\n",
    "combine_data = combine_data.dropna(thresh=thresh, axis=1)\n",
    "\n",
    "#отбрасываем строки с числом пропусков более 2 в строке\n",
    "m = combine_data.shape[1] #число признаков после удаления столбцов\n",
    "combine_data = combine_data.dropna(thresh=m-2, axis=0)\n",
    "\n",
    "#создаём словарь 'имя_столбца': число (признак), на который надо заменить пропуски \n",
    "values = {\n",
    "    'life_sq': combine_data['full_sq'],\n",
    "    'metro_min_walk': combine_data['metro_min_walk'].median(),\n",
    "    'metro_km_walk': combine_data['metro_km_walk'].median(),\n",
    "    'railroad_station_walk_km': combine_data['railroad_station_walk_km'].median(),\n",
    "    'railroad_station_walk_min': combine_data['railroad_station_walk_min'].median(),\n",
    "    'preschool_quota': combine_data['preschool_quota'].mode()[0],\n",
    "    'school_quota': combine_data['school_quota'].mode()[0],\n",
    "    'floor': combine_data['floor'].mode()[0]\n",
    "}\n",
    "#заполняем оставшиеся записи константами в соответствии со словарем values\n",
    "combine_data = combine_data.fillna(values)\n",
    "#выводим результирующую долю пропусков\n",
    "display(combine_data.isnull().mean())"
   ]
  },
  {
   "cell_type": "code",
   "execution_count": 47,
   "metadata": {},
   "outputs": [
    {
     "name": "stdout",
     "output_type": "stream",
     "text": [
      "(26800, 60)\n"
     ]
    }
   ],
   "source": [
    "print(combine_data.shape)"
   ]
  },
  {
   "cell_type": "markdown",
   "metadata": {},
   "source": [
    "Примечание. Стоит отметить, что предположение о том, что жилая площадь равна общей, слишком тривиально. Порассуждаем логически. Очевидно, что обычно в квартире есть хотя бы санузел, который не учитывается в жилой площади, и тогда жилая площадь будет меньше общей. Если взять соотношение жилой площади к общей площади и построить boxplot в log-масштабе, то медиана будет на около 0.6, а значение 1 (жилая = общая) не войдёт даже в последний квартиль. Поэтому в реальной задаче такая оценка соотношения площадей является не совсем корректной."
   ]
  },
  {
   "cell_type": "markdown",
   "metadata": {},
   "source": [
    "Метод ручного поиска и здравого смысла\n",
    "\n",
    "Сделать это можно с помощью уже знакомого вам метода describe(). Рассчитаем статистические показатели для признака жилой площади (life_sq)."
   ]
  },
  {
   "cell_type": "code",
   "execution_count": 48,
   "metadata": {},
   "outputs": [
    {
     "data": {
      "text/plain": [
       "count    24088.000000\n",
       "mean        34.403271\n",
       "std         52.285733\n",
       "min          0.000000\n",
       "25%         20.000000\n",
       "50%         30.000000\n",
       "75%         43.000000\n",
       "max       7478.000000\n",
       "Name: life_sq, dtype: float64"
      ]
     },
     "execution_count": 48,
     "metadata": {},
     "output_type": "execute_result"
    }
   ],
   "source": [
    "sber_data['life_sq'].describe()"
   ]
  },
  {
   "cell_type": "markdown",
   "metadata": {},
   "source": [
    "Найдём число квартир с нулевой жилой площадью:"
   ]
  },
  {
   "cell_type": "code",
   "execution_count": 49,
   "metadata": {},
   "outputs": [
    {
     "name": "stdout",
     "output_type": "stream",
     "text": [
      "45\n"
     ]
    }
   ],
   "source": [
    "print(sber_data[sber_data['life_sq'] == 0].shape[0])"
   ]
  },
  {
   "cell_type": "markdown",
   "metadata": {},
   "source": [
    "Это могут быть апартаменты — вид коммерческой недвижимости, которая юридически не является жилой площадью, но законно продаётся по ценам, сопоставимым с квартирными. Оставим их в покое.  "
   ]
  },
  {
   "cell_type": "markdown",
   "metadata": {},
   "source": [
    "А теперь выведем здания с жилой площадью более 7 000 квадратных метров:"
   ]
  },
  {
   "cell_type": "code",
   "execution_count": 50,
   "metadata": {},
   "outputs": [
    {
     "data": {
      "text/html": [
       "<div>\n",
       "<style scoped>\n",
       "    .dataframe tbody tr th:only-of-type {\n",
       "        vertical-align: middle;\n",
       "    }\n",
       "\n",
       "    .dataframe tbody tr th {\n",
       "        vertical-align: top;\n",
       "    }\n",
       "\n",
       "    .dataframe thead th {\n",
       "        text-align: right;\n",
       "    }\n",
       "</style>\n",
       "<table border=\"1\" class=\"dataframe\">\n",
       "  <thead>\n",
       "    <tr style=\"text-align: right;\">\n",
       "      <th></th>\n",
       "      <th>id</th>\n",
       "      <th>full_sq</th>\n",
       "      <th>life_sq</th>\n",
       "      <th>floor</th>\n",
       "      <th>sub_area</th>\n",
       "      <th>preschool_quota</th>\n",
       "      <th>preschool_education_centers_raion</th>\n",
       "      <th>school_quota</th>\n",
       "      <th>school_education_centers_raion</th>\n",
       "      <th>school_education_centers_top_20_raion</th>\n",
       "      <th>...</th>\n",
       "      <th>office_km</th>\n",
       "      <th>additional_education_km</th>\n",
       "      <th>preschool_km</th>\n",
       "      <th>big_church_km</th>\n",
       "      <th>church_synagogue_km</th>\n",
       "      <th>theater_km</th>\n",
       "      <th>museum_km</th>\n",
       "      <th>ecology</th>\n",
       "      <th>mosque_count_1000</th>\n",
       "      <th>price_doc</th>\n",
       "    </tr>\n",
       "  </thead>\n",
       "  <tbody>\n",
       "    <tr>\n",
       "      <th>13546</th>\n",
       "      <td>13549</td>\n",
       "      <td>79</td>\n",
       "      <td>7478.0</td>\n",
       "      <td>8.0</td>\n",
       "      <td>Poselenie Voskresenskoe</td>\n",
       "      <td>NaN</td>\n",
       "      <td>0</td>\n",
       "      <td>NaN</td>\n",
       "      <td>0</td>\n",
       "      <td>0</td>\n",
       "      <td>...</td>\n",
       "      <td>5.072389</td>\n",
       "      <td>1.210613</td>\n",
       "      <td>0.826052</td>\n",
       "      <td>1.582378</td>\n",
       "      <td>0.756119</td>\n",
       "      <td>21.472421</td>\n",
       "      <td>14.917332</td>\n",
       "      <td>no data</td>\n",
       "      <td>0</td>\n",
       "      <td>7705000</td>\n",
       "    </tr>\n",
       "  </tbody>\n",
       "</table>\n",
       "<p>1 rows × 61 columns</p>\n",
       "</div>"
      ],
      "text/plain": [
       "          id  full_sq  life_sq  floor                 sub_area  \\\n",
       "13546  13549       79   7478.0    8.0  Poselenie Voskresenskoe   \n",
       "\n",
       "       preschool_quota  preschool_education_centers_raion  school_quota  \\\n",
       "13546              NaN                                  0           NaN   \n",
       "\n",
       "       school_education_centers_raion  school_education_centers_top_20_raion  \\\n",
       "13546                               0                                      0   \n",
       "\n",
       "       ...  office_km  additional_education_km  preschool_km  big_church_km  \\\n",
       "13546  ...   5.072389                 1.210613      0.826052       1.582378   \n",
       "\n",
       "       church_synagogue_km  theater_km  museum_km  ecology mosque_count_1000  \\\n",
       "13546             0.756119   21.472421  14.917332  no data                 0   \n",
       "\n",
       "      price_doc  \n",
       "13546   7705000  \n",
       "\n",
       "[1 rows x 61 columns]"
      ]
     },
     "metadata": {},
     "output_type": "display_data"
    }
   ],
   "source": [
    "display(sber_data[sber_data['life_sq'] > 7000])"
   ]
  },
  {
   "cell_type": "markdown",
   "metadata": {},
   "source": [
    "Выброс налицо: гигантская жилая площадь (life_sq), да ещё почти в 100 раз превышает общую площадь (full_sq)."
   ]
  },
  {
   "cell_type": "markdown",
   "metadata": {},
   "source": [
    "Логичен вопрос: а много ли у нас таких квартир, у которых жилая площадь больше, чем суммарная?"
   ]
  },
  {
   "cell_type": "code",
   "execution_count": 51,
   "metadata": {},
   "outputs": [
    {
     "name": "stdout",
     "output_type": "stream",
     "text": [
      "37\n"
     ]
    }
   ],
   "source": [
    "outliers = sber_data[sber_data['life_sq'] > sber_data['full_sq']]\n",
    "print(outliers.shape[0])"
   ]
  },
  {
   "cell_type": "markdown",
   "metadata": {},
   "source": [
    "Подобные наблюдения уже не поддаются здравому смыслу — они являются ошибочными, и от них стоит избавиться. Для этого можно воспользоваться методом drop() и удалить записи по их индексам:"
   ]
  },
  {
   "cell_type": "code",
   "execution_count": 52,
   "metadata": {},
   "outputs": [
    {
     "name": "stdout",
     "output_type": "stream",
     "text": [
      "Результирующее число записей: 30434\n"
     ]
    }
   ],
   "source": [
    "cleaned = sber_data.drop(outliers.index, axis=0)\n",
    "print(f'Результирующее число записей: {cleaned.shape[0]}')"
   ]
  },
  {
   "cell_type": "markdown",
   "metadata": {},
   "source": [
    "Ещё пример: давайте посмотрим на признак числа этажей (floor)."
   ]
  },
  {
   "cell_type": "code",
   "execution_count": 53,
   "metadata": {},
   "outputs": [
    {
     "data": {
      "text/plain": [
       "count    30304.000000\n",
       "mean         7.670803\n",
       "std          5.319989\n",
       "min          0.000000\n",
       "25%          3.000000\n",
       "50%          6.500000\n",
       "75%         11.000000\n",
       "max         77.000000\n",
       "Name: floor, dtype: float64"
      ]
     },
     "metadata": {},
     "output_type": "display_data"
    }
   ],
   "source": [
    "display(sber_data['floor'].describe())"
   ]
  },
  {
   "cell_type": "markdown",
   "metadata": {},
   "source": [
    "Снова видим подозрительную максимальную отметку в 77 этажей. Проверим все квартиры, которые находятся выше 50 этажей:"
   ]
  },
  {
   "cell_type": "code",
   "execution_count": 54,
   "metadata": {},
   "outputs": [
    {
     "data": {
      "text/html": [
       "<div>\n",
       "<style scoped>\n",
       "    .dataframe tbody tr th:only-of-type {\n",
       "        vertical-align: middle;\n",
       "    }\n",
       "\n",
       "    .dataframe tbody tr th {\n",
       "        vertical-align: top;\n",
       "    }\n",
       "\n",
       "    .dataframe thead th {\n",
       "        text-align: right;\n",
       "    }\n",
       "</style>\n",
       "<table border=\"1\" class=\"dataframe\">\n",
       "  <thead>\n",
       "    <tr style=\"text-align: right;\">\n",
       "      <th></th>\n",
       "      <th>id</th>\n",
       "      <th>full_sq</th>\n",
       "      <th>life_sq</th>\n",
       "      <th>floor</th>\n",
       "      <th>sub_area</th>\n",
       "      <th>preschool_quota</th>\n",
       "      <th>preschool_education_centers_raion</th>\n",
       "      <th>school_quota</th>\n",
       "      <th>school_education_centers_raion</th>\n",
       "      <th>school_education_centers_top_20_raion</th>\n",
       "      <th>...</th>\n",
       "      <th>office_km</th>\n",
       "      <th>additional_education_km</th>\n",
       "      <th>preschool_km</th>\n",
       "      <th>big_church_km</th>\n",
       "      <th>church_synagogue_km</th>\n",
       "      <th>theater_km</th>\n",
       "      <th>museum_km</th>\n",
       "      <th>ecology</th>\n",
       "      <th>mosque_count_1000</th>\n",
       "      <th>price_doc</th>\n",
       "    </tr>\n",
       "  </thead>\n",
       "  <tbody>\n",
       "    <tr>\n",
       "      <th>23584</th>\n",
       "      <td>23587</td>\n",
       "      <td>57</td>\n",
       "      <td>33.0</td>\n",
       "      <td>77.0</td>\n",
       "      <td>Lomonosovskoe</td>\n",
       "      <td>3091.0</td>\n",
       "      <td>5</td>\n",
       "      <td>8359.0</td>\n",
       "      <td>7</td>\n",
       "      <td>1</td>\n",
       "      <td>...</td>\n",
       "      <td>0.310557</td>\n",
       "      <td>0.731683</td>\n",
       "      <td>0.489763</td>\n",
       "      <td>0.86354</td>\n",
       "      <td>0.863266</td>\n",
       "      <td>2.920671</td>\n",
       "      <td>2.757058</td>\n",
       "      <td>satisfactory</td>\n",
       "      <td>0</td>\n",
       "      <td>13700000</td>\n",
       "    </tr>\n",
       "  </tbody>\n",
       "</table>\n",
       "<p>1 rows × 61 columns</p>\n",
       "</div>"
      ],
      "text/plain": [
       "          id  full_sq  life_sq  floor       sub_area  preschool_quota  \\\n",
       "23584  23587       57     33.0   77.0  Lomonosovskoe           3091.0   \n",
       "\n",
       "       preschool_education_centers_raion  school_quota  \\\n",
       "23584                                  5        8359.0   \n",
       "\n",
       "       school_education_centers_raion  school_education_centers_top_20_raion  \\\n",
       "23584                               7                                      1   \n",
       "\n",
       "       ...  office_km  additional_education_km  preschool_km  big_church_km  \\\n",
       "23584  ...   0.310557                 0.731683      0.489763        0.86354   \n",
       "\n",
       "       church_synagogue_km  theater_km  museum_km       ecology  \\\n",
       "23584             0.863266    2.920671   2.757058  satisfactory   \n",
       "\n",
       "      mosque_count_1000 price_doc  \n",
       "23584                 0  13700000  \n",
       "\n",
       "[1 rows x 61 columns]"
      ]
     },
     "metadata": {},
     "output_type": "display_data"
    }
   ],
   "source": [
    "display(sber_data[sber_data['floor']> 50])"
   ]
  },
  {
   "cell_type": "markdown",
   "metadata": {},
   "source": [
    "Убеждаемся в том, что здания выше 70 этажей находятся на территории комплекса Москва-Сити (Пресненский район). В Ломоносовском районе таких жилых высоток нет. Получается, что данное наблюдение — выброс."
   ]
  },
  {
   "cell_type": "markdown",
   "metadata": {},
   "source": [
    "Метод межквартильного размаха (метод Тьюки)\n",
    "\n",
    "Отличным помощником в поиске потенциальных выбросов является визуализация. Если признак является числовым, то можно построить гистограмму или коробчатую диаграмму, чтобы найти аномалии.\n",
    "\n",
    "На гистограмме мы можем увидеть потенциальные выбросы как низкие далеко отстоящие от основной группы столбцов «пеньки», а на коробчатой диаграмме — точки за пределами усов."
   ]
  },
  {
   "cell_type": "markdown",
   "metadata": {},
   "source": [
    " Построим гистограмму и коробчатую диаграмму для признака полной площади (full_sq):"
   ]
  },
  {
   "cell_type": "code",
   "execution_count": 56,
   "metadata": {},
   "outputs": [
    {
     "data": {
      "image/png": "[encoded data removed]",
      "text/plain": [
       "<Figure size 1500x400 with 2 Axes>"
      ]
     },
     "metadata": {},
     "output_type": "display_data"
    }
   ],
   "source": [
    "fig, axes = plt.subplots(nrows=1, ncols=2, figsize=(15, 4))\n",
    "histplot = sns.histplot(data=sber_data, x='full_sq', ax=axes[0]);\n",
    "histplot.set_title('Full Square Distribution');\n",
    "boxplot = sns.boxplot(data=sber_data, x='full_sq', ax=axes[1]);\n",
    "boxplot.set_title('Full Square Boxplot');\n",
    "\n"
   ]
  },
  {
   "cell_type": "markdown",
   "metadata": {},
   "source": [
    "Основная масса квартир имеет общую площадь менее 250 квадратных метров, и лишь несколько невзрачных наблюдений выбиваются из этого интервала. Максимальная площадь, судя по гистограмме, превышает 5 000 квадратных метров."
   ]
  },
  {
   "cell_type": "markdown",
   "metadata": {},
   "source": [
    "Визуализация помогает определить наличие выбросов. \n",
    "\n",
    "Для того чтобы их найти, можно воспользоваться статистическими подходами. \n",
    "\n",
    "Одним из таких подходов является метод межквартильного размаха (его еще называют методом Тьюки), который используется для построения коробчатой диаграммы."
   ]
  },
  {
   "cell_type": "markdown",
   "metadata": {},
   "source": [
    "Алгоритм метода:\n",
    "\n",
    "→ вычислить 25-ый и 75-ый квантили (первый и третий квартили) — Q25 и Q75 и для признака, который мы исследуем;\n",
    "\n",
    "→ вычислить межквартильное расстояние: IQR = Q75 - Q25\n",
    "\n",
    "→ вычислить верхнюю и нижнюю границы Тьюки: \n",
    "\n",
    "bound_lower = Q25 - 1.5*IQR\n",
    "\n",
    "bound_upper = Q75 + 1.5*IQR\n",
    "\n",
    "→ найти наблюдения, которые выходят за пределы границ [bound_lower, bound_upper]\n",
    "\n",
    ".\n",
    "\n",
    "В соответствии с этим алгоритмом напишем функцию outliers_iqr(), которая вам может ещё не раз пригодиться в реальных задачах. Эта функция принимает на вход DataFrame и признак, по которому ищутся выбросы, а затем возвращает потенциальные выбросы, найденные с помощью метода Тьюки, и очищенный от них датасет.\n",
    "\n",
    "Квантили вычисляются с помощью метода quantile(). Потенциальные выбросы определяются при помощи фильтрации данных по условию выхода за пределы верхней или нижней границы."
   ]
  },
  {
   "cell_type": "markdown",
   "metadata": {},
   "source": [
    "## В соответствии с этим алгоритмом напишем функцию outliers_iqr(), которая вам может ещё не раз пригодиться в реальных задачах. Эта функция принимает на вход DataFrame и признак, по которому ищутся выбросы, а затем возвращает потенциальные выбросы, найденные с помощью метода Тьюки, и очищенный от них датасет."
   ]
  },
  {
   "cell_type": "markdown",
   "metadata": {},
   "source": [
    "Квантили вычисляются с помощью метода quantile(). Потенциальные выбросы определяются при помощи фильтрации данных по условию выхода за пределы верхней или нижней границы."
   ]
  },
  {
   "cell_type": "code",
   "execution_count": 58,
   "metadata": {},
   "outputs": [],
   "source": [
    "def outliers_iqr(data, feature):\n",
    "    x = data[feature]\n",
    "    quartile_1, quartile_3 = x.quantile(0.25), x.quantile(0.75),\n",
    "    iqr = quartile_3 - quartile_1\n",
    "    lower_bound = quartile_1 - (iqr * 1.5)\n",
    "    upper_bound = quartile_3 + (iqr * 1.5)\n",
    "    outliers = data[(x < lower_bound) | (x > upper_bound)]\n",
    "    cleaned = data[(x >= lower_bound) & (x <= upper_bound)]\n",
    "    return outliers, cleaned"
   ]
  },
  {
   "cell_type": "markdown",
   "metadata": {},
   "source": [
    "Применим эту функцию к таблице sber_data и признаку full_sq, а также выведем размерности результатов:"
   ]
  },
  {
   "cell_type": "code",
   "execution_count": 59,
   "metadata": {},
   "outputs": [
    {
     "name": "stdout",
     "output_type": "stream",
     "text": [
      "Число выбросов по методу Тьюки: 963\n",
      "Результирующее число записей: 29508\n"
     ]
    }
   ],
   "source": [
    "outliers, cleaned = outliers_iqr(sber_data, 'full_sq')\n",
    "print(f'Число выбросов по методу Тьюки: {outliers.shape[0]}')\n",
    "print(f'Результирующее число записей: {cleaned.shape[0]}')"
   ]
  },
  {
   "cell_type": "markdown",
   "metadata": {},
   "source": [
    "Согласно классическому методу Тьюки, под выбросы у нас попали 963 записи в таблице. Давайте построим гистограмму и коробчатую диаграмму на новых данных cleaned_sber_data:"
   ]
  },
  {
   "cell_type": "code",
   "execution_count": 60,
   "metadata": {},
   "outputs": [
    {
     "data": {
      "image/png": "[encoded data removed]",
      "text/plain": [
       "<Figure size 1500x400 with 2 Axes>"
      ]
     },
     "metadata": {},
     "output_type": "display_data"
    }
   ],
   "source": [
    "fig, axes = plt.subplots(nrows=1, ncols=2, figsize=(15, 4))\n",
    "histplot = sns.histplot(data=cleaned, x='full_sq', ax=axes[0]);\n",
    "histplot.set_title('Cleaned Full Square Distribution');\n",
    "boxplot = sns.boxplot(data=cleaned, x='full_sq', ax=axes[1]);\n",
    "boxplot.set_title('Cleaned Full Square Boxplot');"
   ]
  },
  {
   "cell_type": "markdown",
   "metadata": {},
   "source": [
    "На первый взгляд — стерильно. Однако если присмотреться, то коробчатая диаграмма всё ещё продолжает говорить, что в данных есть одиночные выбросы с обеих сторон от границ. К тому же у нас сильно урезался диапазон жилой площади — максимальная площадь составляет около 100 кв. м. \n",
    "\n",
    "Как же так, неужели метод не работает?\n",
    "\n",
    "Причина кроется в том, что после удаления выбросов квартили рассчитываются заново по новым данным, и так оказалось, что из-за свойств распределения были снова найдены точки, которые считаются выбросами.\n",
    "\n",
    "Классический метод межквартильного размаха не учитывает особенностей распределения! Он требует, чтобы данные были распределены плюс-минус нормально (гистограмма должна быть похожа на колокол) и требует от распределения примерной симметричности (чтобы у гистограммы были одинаковые хвосты в обе стороны).\n",
    "\n",
    "У нас же распределение (даже после отсечения выбросов) отличается от заявленных критериев. Оно несимметрично: правый хвост изначального распределения гораздо длиннее левого (для Москвы вполне естественны квартиры с площадью свыше 100 квадратных метров) и вовсе не колоколообразно. Попросту говоря, выбор метода поиска не оправдал себя.\n",
    "\n",
    "Но не стоит расстраиваться! Никто не говорил, что вы должны должны ограничиваться только 1.5 межквартильных размахов. Вы можете сами подбирать число размахов влево и/или вправо и таким образом отбирать выбросы, учитывая особенности ваших данных. "
   ]
  },
  {
   "cell_type": "markdown",
   "metadata": {},
   "source": [
    "Давайте немного модифицируем функцию outliers_iqr(data, feature). Добавьте в неё параметры left и right, которые задают число IQR влево и вправо от границ ящика (пусть по умолчанию они равны 1.5). Функция, как и раньше, должна возвращать потенциальные выбросы и очищенный DataFrame.\n",
    "\n",
    "Назовите измененную функцию: outliers_iqr_mod`"
   ]
  },
  {
   "cell_type": "code",
   "execution_count": 66,
   "metadata": {},
   "outputs": [
    {
     "name": "stdout",
     "output_type": "stream",
     "text": [
      "(          id  full_sq  life_sq  floor                 sub_area  \\\n",
      "128      129      325    325.0    7.0               Ivanovskoe   \n",
      "702      703       12      8.0    4.0       Horoshevo-Mnevniki   \n",
      "1188    1189        9     44.0    3.0                Veshnjaki   \n",
      "1307    1310      291    189.0    2.0                  Kurkino   \n",
      "1478    1481      353     20.0    5.0                 Solncevo   \n",
      "1610    1613      394     17.0   11.0                 Ljublino   \n",
      "2009    2012        5     40.0    5.0               Gol'janovo   \n",
      "2425    2428      412     17.0    6.0           Filevskij Park   \n",
      "2780    2783      729     44.0   12.0       Troparevo-Nikulino   \n",
      "3527    3530     5326     22.0   13.0     Birjulevo Vostochnoe   \n",
      "3596    3599      388      NaN    9.0               Nekrasovka   \n",
      "3908    3911       10     10.0    5.0                 Otradnoe   \n",
      "5944    5947      634     38.0    3.0                Lianozovo   \n",
      "6112    6115        6      NaN    3.0  Poselenie Voskresenskoe   \n",
      "7207    7210      461     27.0    2.0         Vyhino-Zhulebino   \n",
      "8056    8059       11     11.0    2.0                Hamovniki   \n",
      "8827    8830      226     94.0   20.0           Akademicheskoe   \n",
      "11332  11335        1     40.0   10.0     Poselenie Shherbinka   \n",
      "15145  15148      215    134.0   10.0                  Savelki   \n",
      "16289  16292        1      1.0    1.0  Poselenie Voskresenskoe   \n",
      "16738  16741        1      1.0    1.0  Poselenie Voskresenskoe   \n",
      "16743  16746      303      NaN   32.0             Obruchevskoe   \n",
      "17194  17197        1      1.0    1.0    Pokrovskoe Streshnevo   \n",
      "17277  17280      220    176.0    8.0               Vojkovskoe   \n",
      "17710  17713      219    118.0   31.0                Jakimanka   \n",
      "17932  17935        0      0.0    0.0  Poselenie Voskresenskoe   \n",
      "18341  18344      634      NaN    3.0               Nekrasovka   \n",
      "18525  18528      275    232.0   11.0                 Shhukino   \n",
      "18600  18603        1      1.0    1.0                 Tverskoe   \n",
      "19221  19224       12      9.0    4.0       Horoshevo-Mnevniki   \n",
      "22171  22174        1      1.0    1.0     Poselenie Vnukovskoe   \n",
      "22412  22415        1     47.0   11.0              Presnenskoe   \n",
      "22722  22725        1      1.0    1.0               Nekrasovka   \n",
      "22785  22788      637    637.0   18.0                 Tverskoe   \n",
      "22795  22798        1      1.0    7.0     Poselenie Shherbinka   \n",
      "22871  22874        1      1.0    1.0               Nekrasovka   \n",
      "23048  23051        1      1.0    1.0       Horoshevo-Mnevniki   \n",
      "23228  23231        1      1.0    1.0        Nagatinskij Zaton   \n",
      "23573  23576        1      1.0    1.0                 Nagornoe   \n",
      "23715  23718      603      NaN   16.0                 Krjukovo   \n",
      "23726  23729        1      1.0    1.0               Nekrasovka   \n",
      "23896  23899      218    174.0   10.0               Vojkovskoe   \n",
      "24296  24299        0     77.0    4.0     Poselenie Vnukovskoe   \n",
      "24314  24317       12      8.0    4.0               Gol'janovo   \n",
      "24627  24630        1      1.0    1.0  Poselenie Voskresenskoe   \n",
      "24892  24895        1      1.0   26.0            Levoberezhnoe   \n",
      "25183  25186      216    121.0   27.0                Jakimanka   \n",
      "25569  25572        1      1.0    1.0   Poselenie Desjonovskoe   \n",
      "25887  25890        1      1.0   19.0                   Mitino   \n",
      "26264  26267        1     60.0   17.0               Nekrasovka   \n",
      "26363  26366        1     64.0   22.0       Chertanovo Juzhnoe   \n",
      "26386  26389        1      1.0    1.0     Poselenie Moskovskij   \n",
      "26582  26585        1      1.0    1.0                 Nagornoe   \n",
      "26925  26928        1      1.0   17.0   Poselenie Desjonovskoe   \n",
      "27154  27157        1      1.0    1.0                 Nagornoe   \n",
      "27793  27796      407    407.0    4.0           Filevskij Park   \n",
      "28081  28084      219    101.0    2.0           Juzhnoe Butovo   \n",
      "28326  28329      220    144.0    3.0              Presnenskoe   \n",
      "29134  29137       12      8.0    1.0               Gol'janovo   \n",
      "\n",
      "       preschool_quota  preschool_education_centers_raion  school_quota  \\\n",
      "128             2697.0                                  7        9439.0   \n",
      "702             3397.0                                  4       11085.0   \n",
      "1188            3494.0                                  6        6766.0   \n",
      "1307            2794.0                                  4        6620.0   \n",
      "1478            3953.0                                  5        9700.0   \n",
      "1610            5153.0                                 10       11887.0   \n",
      "2009            5041.0                                  6       11081.0   \n",
      "2425            1522.0                                  5        4904.0   \n",
      "2780            3587.0                                  8       11286.0   \n",
      "3527            4519.0                                  6       10053.0   \n",
      "3596            2395.0                                  5        7377.0   \n",
      "3908            5088.0                                  4       12721.0   \n",
      "5944            2703.0                                  5        7236.0   \n",
      "6112               NaN                                  0           NaN   \n",
      "7207            7610.0                                 10       16049.0   \n",
      "8056             165.0                                  5        9337.0   \n",
      "8827             926.0                                  6        9501.0   \n",
      "11332              NaN                                  0           NaN   \n",
      "15145           1065.0                                  3        4674.0   \n",
      "16289              NaN                                  0           NaN   \n",
      "16738              NaN                                  0           NaN   \n",
      "16743           2372.0                                  6        6083.0   \n",
      "17194            922.0                                  2        3577.0   \n",
      "17277           1579.0                                  6        5838.0   \n",
      "17710              0.0                                  1        2223.0   \n",
      "17932              NaN                                  0           NaN   \n",
      "18341           2395.0                                  5        7377.0   \n",
      "18525           2854.0                                  4        7023.0   \n",
      "18600           1874.0                                  4        6772.0   \n",
      "19221           3397.0                                  4       11085.0   \n",
      "22171              NaN                                  0           NaN   \n",
      "22412           3240.0                                  7       10602.0   \n",
      "22722           2395.0                                  5        7377.0   \n",
      "22785           1874.0                                  4        6772.0   \n",
      "22795              NaN                                  0           NaN   \n",
      "22871           2395.0                                  5        7377.0   \n",
      "23048           3397.0                                  4       11085.0   \n",
      "23228           3119.0                                  5        6237.0   \n",
      "23573           2279.0                                  4       10027.0   \n",
      "23715           5278.0                                  6       10529.0   \n",
      "23726           2395.0                                  5        7377.0   \n",
      "23896           1579.0                                  6        5838.0   \n",
      "24296              NaN                                  0           NaN   \n",
      "24314           5041.0                                  6       11081.0   \n",
      "24627              NaN                                  0           NaN   \n",
      "24892           1766.0                                  2        2730.0   \n",
      "25183              0.0                                  1        2223.0   \n",
      "25569              NaN                                  0           NaN   \n",
      "25887           6839.0                                  9       17063.0   \n",
      "26264           2395.0                                  5        7377.0   \n",
      "26363           3844.0                                  6        8810.0   \n",
      "26386              NaN                                  0           NaN   \n",
      "26582           2279.0                                  4       10027.0   \n",
      "26925              NaN                                  0           NaN   \n",
      "27154           2279.0                                  4       10027.0   \n",
      "27793           1522.0                                  5        4904.0   \n",
      "28081          11926.0                                 11       24750.0   \n",
      "28326           3240.0                                  7       10602.0   \n",
      "29134           5041.0                                  6       11081.0   \n",
      "\n",
      "       school_education_centers_raion  school_education_centers_top_20_raion  \\\n",
      "128                                 8                                      1   \n",
      "702                                 5                                      0   \n",
      "1188                                7                                      0   \n",
      "1307                                4                                      0   \n",
      "1478                                5                                      0   \n",
      "1610                               13                                      0   \n",
      "2009                                7                                      0   \n",
      "2425                                5                                      0   \n",
      "2780                                9                                      2   \n",
      "3527                                6                                      0   \n",
      "3596                                5                                      0   \n",
      "3908                                4                                      0   \n",
      "5944                                5                                      0   \n",
      "6112                                0                                      0   \n",
      "7207                               11                                      0   \n",
      "8056                                8                                      1   \n",
      "8827                                6                                      0   \n",
      "11332                               0                                      0   \n",
      "15145                               3                                      0   \n",
      "16289                               0                                      0   \n",
      "16738                               0                                      0   \n",
      "16743                               8                                      0   \n",
      "17194                               4                                      0   \n",
      "17277                               8                                      0   \n",
      "17710                               1                                      1   \n",
      "17932                               0                                      0   \n",
      "18341                               5                                      0   \n",
      "18525                               5                                      0   \n",
      "18600                               4                                      1   \n",
      "19221                               5                                      0   \n",
      "22171                               0                                      0   \n",
      "22412                               9                                      0   \n",
      "22722                               5                                      0   \n",
      "22785                               4                                      1   \n",
      "22795                               0                                      0   \n",
      "22871                               5                                      0   \n",
      "23048                               5                                      0   \n",
      "23228                               8                                      0   \n",
      "23573                               8                                      1   \n",
      "23715                               6                                      0   \n",
      "23726                               5                                      0   \n",
      "23896                               8                                      0   \n",
      "24296                               0                                      0   \n",
      "24314                               7                                      0   \n",
      "24627                               0                                      0   \n",
      "24892                               2                                      0   \n",
      "25183                               1                                      1   \n",
      "25569                               0                                      0   \n",
      "25887                              10                                      0   \n",
      "26264                               5                                      0   \n",
      "26363                               7                                      0   \n",
      "26386                               0                                      0   \n",
      "26582                               8                                      1   \n",
      "26925                               0                                      0   \n",
      "27154                               8                                      1   \n",
      "27793                               5                                      0   \n",
      "28081                              13                                      1   \n",
      "28326                               9                                      0   \n",
      "29134                               7                                      0   \n",
      "\n",
      "       ...  office_km  additional_education_km  preschool_km  big_church_km  \\\n",
      "128    ...   3.310054                 0.602138      0.369984       1.104165   \n",
      "702    ...   0.639845                 0.150472      0.304443       1.718793   \n",
      "1188   ...   0.534551                 1.261887      0.143686       1.840201   \n",
      "1307   ...   2.791192                 1.653352      0.710465       1.163005   \n",
      "1478   ...   0.875551                 0.505435      0.492894       2.409432   \n",
      "1610   ...   0.207715                 1.132526      0.243053       1.363904   \n",
      "2009   ...   0.800876                 0.766443      0.389462       1.411401   \n",
      "2425   ...   0.517113                 1.156151      0.068637       1.568115   \n",
      "2780   ...   0.636908                 0.511692      0.426871       1.377633   \n",
      "3527   ...   3.129234                 0.692783      0.699257       1.753960   \n",
      "3596   ...   5.273047                 1.818087      0.480208       3.473849   \n",
      "3908   ...   1.214982                 0.722375      0.191468       1.198434   \n",
      "5944   ...   0.907818                 0.715702      0.353390       0.875552   \n",
      "6112   ...   5.087106                 1.334019      0.936324       1.714983   \n",
      "7207   ...   2.257806                 0.588505      0.398264       1.524848   \n",
      "8056   ...   0.112276                 0.683229      0.197451       0.373226   \n",
      "8827   ...   0.719388                 1.656460      0.575921       0.780433   \n",
      "11332  ...   1.092125                 0.000000      2.204638       3.833095   \n",
      "15145  ...   2.510567                 5.631262      1.750848       0.941200   \n",
      "16289  ...   5.087106                 1.334019      0.936324       1.714983   \n",
      "16738  ...   5.084293                 1.463290      1.078636       1.854607   \n",
      "16743  ...   0.723276                 0.597668      0.755596       1.734076   \n",
      "17194  ...   0.511089                 0.273002      0.331429       2.510161   \n",
      "17277  ...   0.000000                 0.296069      0.277774       1.076683   \n",
      "17710  ...   0.113446                 0.701003      1.006318       0.438665   \n",
      "17932  ...   5.072389                 1.210613      0.826052       1.582378   \n",
      "18341  ...   4.778766                 0.203466      0.214197       3.468289   \n",
      "18525  ...   1.575780                 0.700591      0.139822       2.794429   \n",
      "18600  ...   0.182194                 0.000000      0.269716       0.181897   \n",
      "19221  ...   0.639845                 0.150472      0.304443       1.718793   \n",
      "22171  ...   4.445599                 1.538651      1.545730       1.327971   \n",
      "22412  ...   0.228588                 2.211385      0.211070       0.632685   \n",
      "22722  ...   5.405911                 2.079577      0.480735       3.576477   \n",
      "22785  ...   0.182194                 0.000000      0.269716       0.181897   \n",
      "22795  ...   2.781995                 1.404904      3.545038       4.228442   \n",
      "22871  ...   5.405911                 2.079577      0.480735       3.576477   \n",
      "23048  ...   1.233506                 1.591519      1.065852       0.041256   \n",
      "23228  ...   1.273356                 0.729856      0.431222       1.806390   \n",
      "23573  ...   0.244691                 0.304661      0.974059       0.842456   \n",
      "23715  ...   0.931016                 2.123951      0.648344       4.561577   \n",
      "23726  ...   5.405911                 2.079577      0.480735       3.576477   \n",
      "23896  ...   0.000000                 0.296069      0.277774       1.076683   \n",
      "24296  ...   4.445599                 1.538651      1.545730       1.327971   \n",
      "24314  ...   1.227212                 0.736917      0.704874       1.663270   \n",
      "24627  ...   5.084293                 1.463290      1.078636       1.854607   \n",
      "24892  ...   1.170747                 1.487856      0.348353       1.058052   \n",
      "25183  ...   0.113446                 0.701003      1.006318       0.438665   \n",
      "25569  ...   7.937008                 3.978097      7.671322       9.559846   \n",
      "25887  ...   0.327092                 1.030736      0.637511       0.388481   \n",
      "26264  ...   5.863136                 2.585319      0.745216       3.236686   \n",
      "26363  ...   0.300944                 0.170194      0.374914       1.938377   \n",
      "26386  ...   0.743497                 1.277151      1.690124       2.452731   \n",
      "26582  ...   0.486634                 0.616217      0.663320       1.105853   \n",
      "26925  ...   7.937008                 3.978097      7.671322       9.559846   \n",
      "27154  ...   0.565308                 0.671608      0.606660       1.124933   \n",
      "27793  ...   0.157072                 0.812017      0.989808       0.625855   \n",
      "28081  ...   7.025921                 2.033635      1.244416       3.119344   \n",
      "28326  ...   0.185520                 0.742409      0.345084       0.226752   \n",
      "29134  ...   1.227212                 0.736917      0.704874       1.663270   \n",
      "\n",
      "       church_synagogue_km  theater_km  museum_km       ecology  \\\n",
      "128               1.247850    2.194396   1.143931          poor   \n",
      "702               1.049836   10.394360   6.099160  satisfactory   \n",
      "1188              1.075791    1.245313   2.201734          poor   \n",
      "1307              1.168573   26.906043  15.816940          good   \n",
      "1478              2.085883    9.363534   5.774921          good   \n",
      "1610              1.023477    8.087836   2.972847     excellent   \n",
      "2009              0.586522    6.635464   6.470112          good   \n",
      "2425              0.606138    1.331922   1.698551  satisfactory   \n",
      "2780              0.545251    3.217170   0.350616  satisfactory   \n",
      "3527              1.759576   12.085723   1.724030          poor   \n",
      "3596              0.922894    8.612007   7.215515          good   \n",
      "3908              0.597411    6.827304   4.210888          good   \n",
      "5944              0.857305   12.074362   8.604500          poor   \n",
      "6112              0.822393   21.654387  15.051278       no data   \n",
      "7207              1.043104    3.141533   1.059685          poor   \n",
      "8056              0.264107    2.985751   0.224448     excellent   \n",
      "8827              0.772428    3.271770   1.647558          poor   \n",
      "11332             0.111842   23.142718  14.148537       no data   \n",
      "15145             0.933764    2.861804   5.375403       no data   \n",
      "16289             0.822393   21.654387  15.051278       no data   \n",
      "16738             0.933439   21.748926  15.190483       no data   \n",
      "16743             1.045770    3.800176   3.234512  satisfactory   \n",
      "17194             1.483047   11.462630  10.590357          poor   \n",
      "17277             1.664493    8.910530   8.229328          poor   \n",
      "17710             0.367658    1.055947   1.144513     excellent   \n",
      "17932             0.756119   21.472421  14.917332       no data   \n",
      "18341             0.912168    9.836242   7.288785          good   \n",
      "18525             1.371264    9.963173   8.909100  satisfactory   \n",
      "18600             0.184681    2.370385   0.695251     excellent   \n",
      "19221             1.049836   10.394360   6.099160  satisfactory   \n",
      "22171             1.323448   13.938381  10.225384       no data   \n",
      "22412             0.831224    2.785129   1.506191          poor   \n",
      "22722             1.161509    8.199580   7.265408          good   \n",
      "22785             0.184681    2.370385   0.695251     excellent   \n",
      "22795             1.908842   25.888122  15.867925       no data   \n",
      "22871             1.161509    8.199580   7.265408          good   \n",
      "23048             0.637779    7.331754   4.462841  satisfactory   \n",
      "23228             1.178366    7.842539   1.574368     excellent   \n",
      "23573             0.972336    3.518374   3.341468          poor   \n",
      "23715             1.792236    5.525778   1.649936       no data   \n",
      "23726             1.161509    8.199580   7.265408          good   \n",
      "23896             1.664493    8.910530   8.229328          poor   \n",
      "24296             1.323448   13.938381  10.225384       no data   \n",
      "24314             1.011128    7.119932   6.834186          good   \n",
      "24627             0.933439   21.748926  15.190483       no data   \n",
      "24892             1.537540   13.117616  10.345675  satisfactory   \n",
      "25183             0.367658    1.055947   1.144513     excellent   \n",
      "25569             0.781791   19.307792  18.104218       no data   \n",
      "25887             0.376053   15.484188  14.985287          good   \n",
      "26264             1.571747    8.534274   7.604545          good   \n",
      "26363             1.068539    8.219991   5.556948          poor   \n",
      "26386             0.432105    6.408504   3.735006       no data   \n",
      "26582             0.661537    3.035089   3.379029          poor   \n",
      "26925             0.781791   19.307792  18.104218       no data   \n",
      "27154             0.605085    3.103077   3.454940          poor   \n",
      "27793             0.336792    2.538474   1.865493  satisfactory   \n",
      "28081             1.397443   19.140939  16.006738  satisfactory   \n",
      "28326             0.140002    0.736765   0.722784     excellent   \n",
      "29134             1.011128    7.119932   6.834186          good   \n",
      "\n",
      "      mosque_count_1000 price_doc  \n",
      "128                   0   5000000  \n",
      "702                   0   3150000  \n",
      "1188                  0   6300000  \n",
      "1307                  0   7750000  \n",
      "1478                  0   4750000  \n",
      "1610                  0   1050000  \n",
      "2009                  0   5770000  \n",
      "2425                  0   6117000  \n",
      "2780                  0  13250000  \n",
      "3527                  0   6868818  \n",
      "3596                  0   3899400  \n",
      "3908                  0   2150000  \n",
      "5944                  0  10200000  \n",
      "6112                  0   5177040  \n",
      "7207                  0   5750000  \n",
      "8056                  0   2750000  \n",
      "8827                  0  13200000  \n",
      "11332                 0   3357774  \n",
      "15145                 0  23000000  \n",
      "16289                 0   4457400  \n",
      "16738                 0   7820575  \n",
      "16743                 1  54212936  \n",
      "17194                 0  13066000  \n",
      "17277                 0  37325704  \n",
      "17710                 0  14526873  \n",
      "17932                 0   4425000  \n",
      "18341                 0   6213200  \n",
      "18525                 0  15919294  \n",
      "18600                 0   6675730  \n",
      "19221                 0   3000000  \n",
      "22171                 0   6256186  \n",
      "22412                 0  14923206  \n",
      "22722                 0   4740000  \n",
      "22785                 0   4725142  \n",
      "22795                 0   5591788  \n",
      "22871                 0   4740000  \n",
      "23048                 0  27259184  \n",
      "23228                 0  13452318  \n",
      "23573                 0  11731927  \n",
      "23715                 0   6572700  \n",
      "23726                 0   4819000  \n",
      "23896                 0  46191272  \n",
      "24296                 0   8167508  \n",
      "24314                 0   3600000  \n",
      "24627                 0   5000550  \n",
      "24892                 0  17035200  \n",
      "25183                 0  64000000  \n",
      "25569                 0   4838066  \n",
      "25887                 0  16160462  \n",
      "26264                 0   5983900  \n",
      "26363                 0  14430018  \n",
      "26386                 0   5510645  \n",
      "26582                 0  10145891  \n",
      "26925                 0   3793778  \n",
      "27154                 0  15318960  \n",
      "27793                 0   3134129  \n",
      "28081                 0  18000000  \n",
      "28326                 0  95122496  \n",
      "29134                 0   2590000  \n",
      "\n",
      "[59 rows x 61 columns],           id  full_sq  life_sq  floor              sub_area  preschool_quota  \\\n",
      "0          1       43     27.0    4.0              Bibirevo           5001.0   \n",
      "1          2       34     19.0    3.0     Nagatinskij Zaton           3119.0   \n",
      "2          3       43     29.0    2.0        Tekstil'shhiki           1463.0   \n",
      "3          4       89     50.0    9.0                Mitino           6839.0   \n",
      "4          5       77     77.0    4.0             Basmannoe           3240.0   \n",
      "...      ...      ...      ...    ...                   ...              ...   \n",
      "30466  30469       44     27.0    7.0              Otradnoe           5088.0   \n",
      "30467  30470       86     59.0    3.0              Tverskoe           1874.0   \n",
      "30468  30471       45      NaN   10.0  Poselenie Vnukovskoe              NaN   \n",
      "30469  30472       64     32.0    5.0          Obruchevskoe           2372.0   \n",
      "30470  30473       43     28.0    1.0           Novogireevo           2215.0   \n",
      "\n",
      "       preschool_education_centers_raion  school_quota  \\\n",
      "0                                      5       11065.0   \n",
      "1                                      5        6237.0   \n",
      "2                                      4        5580.0   \n",
      "3                                      9       17063.0   \n",
      "4                                      7        7770.0   \n",
      "...                                  ...           ...   \n",
      "30466                                  4       12721.0   \n",
      "30467                                  4        6772.0   \n",
      "30468                                  0           NaN   \n",
      "30469                                  6        6083.0   \n",
      "30470                                  4        5824.0   \n",
      "\n",
      "       school_education_centers_raion  school_education_centers_top_20_raion  \\\n",
      "0                                   5                                      0   \n",
      "1                                   8                                      0   \n",
      "2                                   7                                      0   \n",
      "3                                  10                                      0   \n",
      "4                                   9                                      0   \n",
      "...                               ...                                    ...   \n",
      "30466                               4                                      0   \n",
      "30467                               4                                      1   \n",
      "30468                               0                                      0   \n",
      "30469                               8                                      0   \n",
      "30470                               4                                      0   \n",
      "\n",
      "       ...  office_km  additional_education_km  preschool_km  big_church_km  \\\n",
      "0      ...   0.637189                 0.947962      0.177975       0.625783   \n",
      "1      ...   0.688796                 1.072315      0.273345       0.967821   \n",
      "2      ...   1.543049                 0.391957      0.158072       3.178751   \n",
      "3      ...   0.934273                 0.892674      0.236455       1.031777   \n",
      "4      ...   0.077901                 0.810801      0.376838       0.378756   \n",
      "...    ...        ...                      ...           ...            ...   \n",
      "30466  ...   1.103579                 0.167718      0.349899       1.235066   \n",
      "30467  ...   0.069986                 0.086552      0.362681       0.850385   \n",
      "30468  ...   4.338453                 1.339078      1.234235       1.192543   \n",
      "30469  ...   1.204798                 1.340017      0.130667       1.644053   \n",
      "30470  ...   2.108265                 0.825811      0.378950       0.480531   \n",
      "\n",
      "       church_synagogue_km  theater_km  museum_km       ecology  \\\n",
      "0                 0.628187   14.053047   7.389498          good   \n",
      "1                 0.471447    6.829889   0.709260     excellent   \n",
      "2                 0.755946    4.273200   3.156423          poor   \n",
      "3                 1.561505   16.990677  16.041521          good   \n",
      "4                 0.121681    1.112486   1.800125     excellent   \n",
      "...                    ...         ...        ...           ...   \n",
      "30466             0.612359    7.482165   4.836787          good   \n",
      "30467             0.310021    0.778428   1.450108          poor   \n",
      "30468             1.186621   13.459593   9.890758       no data   \n",
      "30469             0.476021    2.088193   4.119706  satisfactory   \n",
      "30470             0.867332    0.688707   0.127867          poor   \n",
      "\n",
      "      mosque_count_1000 price_doc  \n",
      "0                     0   5850000  \n",
      "1                     0   6000000  \n",
      "2                     0   5700000  \n",
      "3                     0  13100000  \n",
      "4                     0  16331452  \n",
      "...                 ...       ...  \n",
      "30466                 0   7400000  \n",
      "30467                 0  25000000  \n",
      "30468                 0   6970959  \n",
      "30469                 0  13500000  \n",
      "30470                 0   5600000  \n",
      "\n",
      "[30412 rows x 61 columns])\n"
     ]
    }
   ],
   "source": [
    "def outliers_iqr_mod(data, feature, left=1.5, right=1.5):\n",
    "    x = data[feature]\n",
    "    quartile_1, quartile_3 = x.quantile(0.25), x.quantile(0.75),\n",
    "    iqr = quartile_3 - quartile_1\n",
    "    lower_bound = quartile_1 - (iqr * left)\n",
    "    upper_bound = quartile_3 + (iqr * right)\n",
    "    outliers = data[(x < lower_bound) | (x > upper_bound)]\n",
    "    cleaned = data[(x >= lower_bound) & (x <= upper_bound)]\n",
    "    return outliers, cleaned\n",
    "print(outliers_iqr_mod(data = sber_data, feature = 'full_sq', left = 1, right = 6))"
   ]
  },
  {
   "cell_type": "markdown",
   "metadata": {},
   "source": [
    "Давайте ослабим границы метода Тьюки справа и усилим их влево. Примените модифицированную функцию outliers_iqr_mod() к признаку full_sq из таблицы sber_data данным с параметрами left=1 и right=6. Результаты работы поместите в переменные outliers и cleaned. Чему равно результирующее число выбросов в данных?"
   ]
  },
  {
   "cell_type": "code",
   "execution_count": 67,
   "metadata": {},
   "outputs": [
    {
     "name": "stdout",
     "output_type": "stream",
     "text": [
      "Число выбросов по методу Тьюки: 59\n",
      "Результирующее число записей: 30412\n"
     ]
    }
   ],
   "source": [
    "outliers, cleaned = outliers_iqr_mod(sber_data, 'full_sq', left=1, right=6)\n",
    "print(f'Число выбросов по методу Тьюки: {outliers.shape[0]}')\n",
    "print(f'Результирующее число записей: {cleaned.shape[0]}')"
   ]
  },
  {
   "cell_type": "markdown",
   "metadata": {},
   "source": [
    "Если мы построим гистограмму и коробчатую диаграмму на полученных данных, то увидим вот такую картинку:"
   ]
  },
  {
   "cell_type": "code",
   "execution_count": 68,
   "metadata": {},
   "outputs": [
    {
     "data": {
      "image/png": "[encoded data removed]",
      "text/plain": [
       "<Figure size 1500x400 with 2 Axes>"
      ]
     },
     "metadata": {},
     "output_type": "display_data"
    }
   ],
   "source": [
    "fig, axes = plt.subplots(nrows=1, ncols=2, figsize=(15, 4))\n",
    "histplot = sns.histplot(data=cleaned, x='full_sq', ax=axes[0]);\n",
    "histplot.set_title('Cleaned Full Square Distribution');\n",
    "boxplot = sns.boxplot(data=cleaned, x='full_sq', ax=axes[1]);\n",
    "boxplot.set_title('Cleaned Full Square Boxplot');"
   ]
  },
  {
   "cell_type": "markdown",
   "metadata": {},
   "source": [
    "Согласитесь, это уже больше похоже на реальный рынок недвижимости: основная часть квартир имеет площадь в интервале от 25 до 85 кв. м, а далее частота наблюдений постепенно падает."
   ]
  },
  {
   "cell_type": "markdown",
   "metadata": {},
   "source": [
    "Метод z-отклонений (метод сигм)\n",
    "\n",
    "Последний метод, который мы рассмотрим, — это метод, основанный на правиле трёх сигм для нормального распределения. \n",
    "\n",
    "Правило трёх сигм гласит: если распределение данных является нормальным, то 99,73 % лежат в интервале от (мю - 3 сигмаб мю + 3 сигма), где   (мю) — математическое ожидание (для выборки это среднее значение), а (сигма) — стандартное отклонение. Наблюдения, которые лежат за пределами этого интервала, будут считаться выбросами."
   ]
  },
  {
   "cell_type": "markdown",
   "metadata": {},
   "source": [
    "что делать, если данные не распределены нормально? \n",
    "\n",
    "На такой случай есть один трюк. Иногда для распределений, похожих на логнормальное, может помочь логарифмирование. Оно может привести исходное распределение к подобию нормального. Причем, основание логарифма может быть любым.\n",
    "\n",
    "✍️ Рассмотрим логарифмирование на примере. \n",
    "\n",
    "Построим две гистограммы признака расстояния до МКАД (mkad_km): первая — в обычном масштабе, а вторая — в логарифмическом. Логарифмировать будем с помощью функции log() из библиотеки numpy (натуральный логарифм — логарифм по основанию числа e). Признак имеет среди своих значений 0. Из математики известно, что логарифма от 0 не существует, поэтому мы прибавляем к нашему признаку 1, чтобы не логарифмировать нули и не получать предупреждения."
   ]
  },
  {
   "cell_type": "code",
   "execution_count": 69,
   "metadata": {},
   "outputs": [
    {
     "data": {
      "image/png": "[encoded data removed]",
      "text/plain": [
       "<Figure size 1500x400 with 2 Axes>"
      ]
     },
     "metadata": {},
     "output_type": "display_data"
    }
   ],
   "source": [
    "fig, axes = plt.subplots(1, 2, figsize=(15, 4))\n",
    "\n",
    "#гистограмма исходного признака\n",
    "histplot = sns.histplot(sber_data['mkad_km'], bins=30, ax=axes[0])\n",
    "histplot.set_title('MKAD Km Distribution');\n",
    "\n",
    "#гистограмма в логарифмическом масштабе\n",
    "log_mkad_km= np.log(sber_data['mkad_km'] + 1)\n",
    "histplot = sns.histplot(log_mkad_km , bins=30, ax=axes[1])\n",
    "histplot.set_title('Log MKAD Km Distribution');"
   ]
  },
  {
   "cell_type": "markdown",
   "metadata": {},
   "source": [
    "Что мы тут видим? \n",
    "\n",
    "Левое распределение напоминает логнормальное распределение с наличием потенциальных выбросов-«пеньков», далеко отстоящих от основной массы наблюдений.\n",
    "\n",
    "Взяв натуральный логарифм от левого распределения, мы получаем правое, которое напоминает слегка перекошенное нормальное. Слева от моды (самого высокого столбика) наблюдается чуть больше наблюдений, нежели справа. По-научному это будет звучать так: «распределение имеет левостороннюю асимметрию»."
   ]
  },
  {
   "cell_type": "markdown",
   "metadata": {},
   "source": [
    "Примечание: Численный показатель асимметрии можно вычислить с помощью метода: skew()\n",
    "\n",
    "print(log_mkad_km.skew())\n",
    "# -0.14263612203024953\n",
    "\n",
    "    Асимметрия распределения называется правосторонней, если она положительная:\n",
    "\n",
    ";As > 0\n",
    "\n",
    "    Асимметрия распределения называется левосторонней, если она отрицательная:\n",
    "\n",
    "As < 0"
   ]
  },
  {
   "cell_type": "code",
   "execution_count": 71,
   "metadata": {},
   "outputs": [
    {
     "name": "stdout",
     "output_type": "stream",
     "text": [
      "-0.14263612203024953\n"
     ]
    }
   ],
   "source": [
    "print(log_mkad_km.skew())"
   ]
  },
  {
   "cell_type": "markdown",
   "metadata": {},
   "source": [
    "Давайте реализуем алгоритм метода z-отклонения. Описание алгоритма метода:\n",
    "\n",
    "→ вычислить математическое ожидание мю (среднее) и стандартное отклонение сигма признака х;\n",
    "\n",
    "→ вычислить нижнюю и верхнюю границу интервала как:\n",
    "\n",
    "bound_lower = мю - 3 сигма\n",
    "\n",
    "bound_upper = мю + 3сигма\n",
    "\n",
    "→ найти наблюдения, которые выходят за пределы границ.\n",
    "\n",
    "✍️ Напишем функцию outliers_z_score(), которая реализует этот алгоритм. \n",
    "\n",
    "На вход она принимает DataFrame и признак, по которому ищутся выбросы. В дополнение добавим в функцию возможность работы в логарифмическом масштабе: для этого введём аргумент log_scale. Если он равен True, то будем логарифмировать рассматриваемый признак, иначе — оставляем его в исходном виде.\n",
    "\n",
    "Как и раньше, функция будет возвращать выбросы и очищенные от них данные:"
   ]
  },
  {
   "cell_type": "code",
   "execution_count": 72,
   "metadata": {},
   "outputs": [],
   "source": [
    "def outliers_z_score(data, feature, log_scale=False):\n",
    "    if log_scale:\n",
    "        x = np.log(data[feature]+1)\n",
    "    else:\n",
    "        x = data[feature]\n",
    "    mu = x.mean()\n",
    "    sigma = x.std()\n",
    "    lower_bound = mu - 3 * sigma\n",
    "    upper_bound = mu + 3 * sigma\n",
    "    outliers = data[(x < lower_bound) | (x > upper_bound)]\n",
    "    cleaned = data[(x >= lower_bound) & (x <= upper_bound)]\n",
    "    return outliers, cleaned"
   ]
  },
  {
   "cell_type": "markdown",
   "metadata": {},
   "source": [
    "Применим эту функцию к таблице sber_data и признаку mkad_km, а также выведем размерности результатов:"
   ]
  },
  {
   "cell_type": "code",
   "execution_count": 73,
   "metadata": {},
   "outputs": [
    {
     "name": "stdout",
     "output_type": "stream",
     "text": [
      "Число выбросов по методу z-отклонения: 33\n",
      "Результирующее число записей: 30438\n"
     ]
    }
   ],
   "source": [
    "outliers, cleaned = outliers_z_score(sber_data, 'mkad_km', log_scale=True)\n",
    "print(f'Число выбросов по методу z-отклонения: {outliers.shape[0]}')\n",
    "print(f'Результирующее число записей: {cleaned.shape[0]}')"
   ]
  },
  {
   "cell_type": "markdown",
   "metadata": {},
   "source": [
    "Итак, метод z-отклонения нашел нам 33 потенциальных выброса по признаку расстояния до МКАД. Давайте узнаем, в каких районах (sub_area) представлены эти квартиры:"
   ]
  },
  {
   "cell_type": "code",
   "execution_count": 74,
   "metadata": {},
   "outputs": [
    {
     "name": "stdout",
     "output_type": "stream",
     "text": [
      "['Poselenie Rogovskoe' 'Poselenie Kievskij']\n"
     ]
    }
   ],
   "source": [
    "print(outliers['sub_area'].unique())"
   ]
  },
  {
   "cell_type": "markdown",
   "metadata": {},
   "source": [
    "Наши потенциальные выбросы — это квартиры из поселений «Роговское» и «Киевский». Снова обращаемся к силе интернета и «пробиваем» наших подозреваемых. Эти поселения — самые удалённые районы Москвы; первое из них — это и вовсе граница с Калужской областью. "
   ]
  },
  {
   "cell_type": "markdown",
   "metadata": {},
   "source": [
    "И тут возникает закономерный вопрос: а стоит ли считать такие наблюдения за выбросы? \n",
    "\n",
    "Вопрос в действительности не имеет определенного ответа: с одной стороны, метод прямо-таки говорит нам об этом, а с другой — эти наблюдения имеют право на существование, ведь они являются частью Москвы."
   ]
  },
  {
   "cell_type": "markdown",
   "metadata": {},
   "source": [
    " Возможно, мы не учли того факта, что наш логарифм распределения всё-таки не идеально нормален и в нём присутствует некоторая асимметрия. Возможно, стоит дать некоторое «послабление» на границы интервалов? Давайте отдельно построим гистограмму прологарифмированного распределения, а также отобразим на гистограмме вертикальные линии, соответствующие среднему (центру интервала в методе трёх сигм) и границы интервала мю + 3 сигма . Вертикальные линии можно построить с помощью метода axvline(). Для среднего линия будет обычной, а для границ интервала — пунктирной (параметр ls ='--'): "
   ]
  },
  {
   "cell_type": "code",
   "execution_count": 75,
   "metadata": {},
   "outputs": [
    {
     "data": {
      "image/png": "[encoded data removed]",
      "text/plain": [
       "<Figure size 800x400 with 1 Axes>"
      ]
     },
     "metadata": {},
     "output_type": "display_data"
    }
   ],
   "source": [
    "fig, ax = plt.subplots(1, 1, figsize=(8, 4))\n",
    "log_mkad_km = np.log(sber_data['mkad_km'] + 1)\n",
    "histplot = sns.histplot(log_mkad_km, bins=30, ax=ax)\n",
    "histplot.axvline(log_mkad_km.mean(), color='k', lw=2)\n",
    "histplot.axvline(log_mkad_km.mean()+ 3 * log_mkad_km.std(), color='k', ls='--', lw=2)\n",
    "histplot.axvline(log_mkad_km.mean()- 3 * log_mkad_km.std(), color='k', ls='--', lw=2)\n",
    "histplot.set_title('Log MKAD Km Distribution');"
   ]
  },
  {
   "cell_type": "markdown",
   "metadata": {},
   "source": [
    "Итак, мы графически построили интервал метода трёх сигм поверх нашего распределения. Он показывает, какие наблюдения мы берём в интервал, а какие считаем выбросами. Легко заметить, что среднее значение (жирная вертикальная линия) находится левее моды. Это свойство распределений с левосторонней асимметрией. Также видны наблюдения, которые мы не захватили своим интервалом (небольшой «пенёк» правее верхней границы) — это и есть наши квартиры из поселений «Роговское» и «Киевский». Очевидно, что если немного (меньше чем на одну сигму) «сдвинуть» верхнюю границу вправо, то мы захватим эти наблюдения. Давайте сделаем это."
   ]
  },
  {
   "cell_type": "markdown",
   "metadata": {},
   "source": [
    "Давайте расширим правило трёх сигм, чтобы иметь возможность учитывать особенности данных. Добавьте в функцию outliers_z_score(data, feature, log_scale=False) параметры left и right, которые будут задавать число сигм (стандартных отклонений) влево и вправо соответственно, определяющее границы метода z-отклонения. По умолчанию оба параметры равны 3.\n",
    "\n",
    "Результирующую функцию назовите outliers_z_score_mod().\n",
    "\n",
    "Можете протестировать работу функции на DataFrame test_sber_data.csv. Проверять ваше решение мы будем, подавая на вход функции вместо data произвольный датафрейм."
   ]
  },
  {
   "cell_type": "code",
   "execution_count": 76,
   "metadata": {},
   "outputs": [
    {
     "name": "stdout",
     "output_type": "stream",
     "text": [
      "(          id  full_sq  life_sq  floor                sub_area  \\\n",
      "128      129      325    325.0    7.0              Ivanovskoe   \n",
      "997      998      183    183.0   32.0            Obruchevskoe   \n",
      "1029    1030      204    197.0    3.0              Krylatskoe   \n",
      "1174    1175      169      NaN   19.0            Obruchevskoe   \n",
      "1289    1292      169      NaN   25.0            Obruchevskoe   \n",
      "...      ...      ...      ...    ...                     ...   \n",
      "28955  28958      195    119.0    1.0  Poselenie Pervomajskoe   \n",
      "29070  29073      170     75.0    1.0          Juzhnoe Butovo   \n",
      "29310  29313      197    197.0    1.0          Juzhnoe Butovo   \n",
      "29517  29520      187    139.0    3.0               Hamovniki   \n",
      "29656  29659      211    162.0    5.0             Presnenskoe   \n",
      "\n",
      "       preschool_quota  preschool_education_centers_raion  school_quota  \\\n",
      "128             2697.0                                  7        9439.0   \n",
      "997             2372.0                                  6        6083.0   \n",
      "1029            3092.0                                  7        7478.0   \n",
      "1174            2372.0                                  6        6083.0   \n",
      "1289            2372.0                                  6        6083.0   \n",
      "...                ...                                ...           ...   \n",
      "28955              NaN                                  0           NaN   \n",
      "29070          11926.0                                 11       24750.0   \n",
      "29310          11926.0                                 11       24750.0   \n",
      "29517            165.0                                  5        9337.0   \n",
      "29656           3240.0                                  7       10602.0   \n",
      "\n",
      "       school_education_centers_raion  school_education_centers_top_20_raion  \\\n",
      "128                                 8                                      1   \n",
      "997                                 8                                      0   \n",
      "1029                                7                                      0   \n",
      "1174                                8                                      0   \n",
      "1289                                8                                      0   \n",
      "...                               ...                                    ...   \n",
      "28955                               0                                      0   \n",
      "29070                              13                                      1   \n",
      "29310                              13                                      1   \n",
      "29517                               8                                      1   \n",
      "29656                               9                                      0   \n",
      "\n",
      "       ...  office_km  additional_education_km  preschool_km  big_church_km  \\\n",
      "128    ...   3.310054                 0.602138      0.369984       1.104165   \n",
      "997    ...   0.723276                 0.597668      0.755596       1.734076   \n",
      "1029   ...   0.943284                 1.101481      1.017447       1.466078   \n",
      "1174   ...   0.723276                 0.597668      0.755596       1.734076   \n",
      "1289   ...   0.723276                 0.597668      0.755596       1.734076   \n",
      "...    ...        ...                      ...           ...            ...   \n",
      "28955  ...   7.526539                 5.537138     12.545967       9.199707   \n",
      "29070  ...   6.824223                 2.116070      1.324921       3.113978   \n",
      "29310  ...   6.711027                 2.234331      1.228756       3.000518   \n",
      "29517  ...   0.169137                 0.074614      0.765787       0.511217   \n",
      "29656  ...   0.214195                 0.759790      0.219068       0.392248   \n",
      "\n",
      "       church_synagogue_km  theater_km  museum_km       ecology  \\\n",
      "128               1.247850    2.194396   1.143931          poor   \n",
      "997               1.045770    3.800176   3.234512  satisfactory   \n",
      "1029              1.139595   12.639596   8.651368          good   \n",
      "1174              1.045770    3.800176   3.234512  satisfactory   \n",
      "1289              1.045770    3.800176   3.234512  satisfactory   \n",
      "...                    ...         ...        ...           ...   \n",
      "28955             0.196629   26.816634  25.366188       no data   \n",
      "29070             1.370290   19.714385  16.163211  satisfactory   \n",
      "29310             1.257812   19.890985  16.071084  satisfactory   \n",
      "29517             0.274904    2.546498   0.765085     excellent   \n",
      "29656             0.373612    0.353865   0.734204     excellent   \n",
      "\n",
      "      mosque_count_1000 price_doc  \n",
      "128                   0   5000000  \n",
      "997                   1  26056764  \n",
      "1029                  0   2000000  \n",
      "1174                  1  20452438  \n",
      "1289                  1  20852812  \n",
      "...                 ...       ...  \n",
      "28955                 0  12200000  \n",
      "29070                 0  16074000  \n",
      "29310                 0  18657500  \n",
      "29517                 0  42300000  \n",
      "29656                 0  70000000  \n",
      "\n",
      "[81 rows x 61 columns],           id  full_sq  life_sq  floor              sub_area  preschool_quota  \\\n",
      "0          1       43     27.0    4.0              Bibirevo           5001.0   \n",
      "1          2       34     19.0    3.0     Nagatinskij Zaton           3119.0   \n",
      "2          3       43     29.0    2.0        Tekstil'shhiki           1463.0   \n",
      "3          4       89     50.0    9.0                Mitino           6839.0   \n",
      "4          5       77     77.0    4.0             Basmannoe           3240.0   \n",
      "...      ...      ...      ...    ...                   ...              ...   \n",
      "30466  30469       44     27.0    7.0              Otradnoe           5088.0   \n",
      "30467  30470       86     59.0    3.0              Tverskoe           1874.0   \n",
      "30468  30471       45      NaN   10.0  Poselenie Vnukovskoe              NaN   \n",
      "30469  30472       64     32.0    5.0          Obruchevskoe           2372.0   \n",
      "30470  30473       43     28.0    1.0           Novogireevo           2215.0   \n",
      "\n",
      "       preschool_education_centers_raion  school_quota  \\\n",
      "0                                      5       11065.0   \n",
      "1                                      5        6237.0   \n",
      "2                                      4        5580.0   \n",
      "3                                      9       17063.0   \n",
      "4                                      7        7770.0   \n",
      "...                                  ...           ...   \n",
      "30466                                  4       12721.0   \n",
      "30467                                  4        6772.0   \n",
      "30468                                  0           NaN   \n",
      "30469                                  6        6083.0   \n",
      "30470                                  4        5824.0   \n",
      "\n",
      "       school_education_centers_raion  school_education_centers_top_20_raion  \\\n",
      "0                                   5                                      0   \n",
      "1                                   8                                      0   \n",
      "2                                   7                                      0   \n",
      "3                                  10                                      0   \n",
      "4                                   9                                      0   \n",
      "...                               ...                                    ...   \n",
      "30466                               4                                      0   \n",
      "30467                               4                                      1   \n",
      "30468                               0                                      0   \n",
      "30469                               8                                      0   \n",
      "30470                               4                                      0   \n",
      "\n",
      "       ...  office_km  additional_education_km  preschool_km  big_church_km  \\\n",
      "0      ...   0.637189                 0.947962      0.177975       0.625783   \n",
      "1      ...   0.688796                 1.072315      0.273345       0.967821   \n",
      "2      ...   1.543049                 0.391957      0.158072       3.178751   \n",
      "3      ...   0.934273                 0.892674      0.236455       1.031777   \n",
      "4      ...   0.077901                 0.810801      0.376838       0.378756   \n",
      "...    ...        ...                      ...           ...            ...   \n",
      "30466  ...   1.103579                 0.167718      0.349899       1.235066   \n",
      "30467  ...   0.069986                 0.086552      0.362681       0.850385   \n",
      "30468  ...   4.338453                 1.339078      1.234235       1.192543   \n",
      "30469  ...   1.204798                 1.340017      0.130667       1.644053   \n",
      "30470  ...   2.108265                 0.825811      0.378950       0.480531   \n",
      "\n",
      "       church_synagogue_km  theater_km  museum_km       ecology  \\\n",
      "0                 0.628187   14.053047   7.389498          good   \n",
      "1                 0.471447    6.829889   0.709260     excellent   \n",
      "2                 0.755946    4.273200   3.156423          poor   \n",
      "3                 1.561505   16.990677  16.041521          good   \n",
      "4                 0.121681    1.112486   1.800125     excellent   \n",
      "...                    ...         ...        ...           ...   \n",
      "30466             0.612359    7.482165   4.836787          good   \n",
      "30467             0.310021    0.778428   1.450108          poor   \n",
      "30468             1.186621   13.459593   9.890758       no data   \n",
      "30469             0.476021    2.088193   4.119706  satisfactory   \n",
      "30470             0.867332    0.688707   0.127867          poor   \n",
      "\n",
      "      mosque_count_1000 price_doc  \n",
      "0                     0   5850000  \n",
      "1                     0   6000000  \n",
      "2                     0   5700000  \n",
      "3                     0  13100000  \n",
      "4                     0  16331452  \n",
      "...                 ...       ...  \n",
      "30466                 0   7400000  \n",
      "30467                 0  25000000  \n",
      "30468                 0   6970959  \n",
      "30469                 0  13500000  \n",
      "30470                 0   5600000  \n",
      "\n",
      "[30390 rows x 61 columns])\n"
     ]
    }
   ],
   "source": [
    "def outliers_z_score_mod(data, feature, left=3, right=3, log_scale=False):\n",
    "    if log_scale:\n",
    "        x = np.log(data[feature]+1)\n",
    "    else:\n",
    "        x = data[feature]\n",
    "    mu = x.mean()\n",
    "    sigma = x.std()\n",
    "    lower_bound = mu - left * sigma\n",
    "    upper_bound = mu + right * sigma\n",
    "    outliers = data[(x < lower_bound) | (x > upper_bound)]\n",
    "    cleaned = data[(x >= lower_bound) & (x <= upper_bound)]\n",
    "    return outliers, cleaned\n",
    "print(outliers_z_score_mod(data=sber_data, feature='full_sq'))"
   ]
  },
  {
   "cell_type": "markdown",
   "metadata": {},
   "source": [
    "Проверьте, что будет, если дать «послабление» вправо, увеличив число сигм. Наша задача — узнать, начиная с какой границы поселения «Роговское» и «Киевское» перестают считаться выбросами. Примените свою функцию outliers_z_score_mod() к признаку mkad_km с параметрами left=3, right=3.5, log_scale=True. Чему равно результирующее число выбросов?"
   ]
  },
  {
   "cell_type": "code",
   "execution_count": 77,
   "metadata": {},
   "outputs": [
    {
     "name": "stdout",
     "output_type": "stream",
     "text": [
      "Число выбросов по методу z-отклонения: 0\n",
      "Результирующее число записей: 30471\n"
     ]
    }
   ],
   "source": [
    "outliers, cleaned = outliers_z_score_mod(sber_data, 'mkad_km', right=3.5, log_scale=True)\n",
    "print(f'Число выбросов по методу z-отклонения: {outliers.shape[0]}')\n",
    "print(f'Результирующее число записей: {cleaned.shape[0]}')"
   ]
  },
  {
   "cell_type": "markdown",
   "metadata": {},
   "source": [
    "Стоило нам немного увеличить правую границу метода z-отклонений, как мы получили отсутствие выбросов в признаке. Давать ли такие «послабления» или нет — это ваше решение и полностью зависит от специфики задачи, однако вы можете пользоваться этим трюком, чтобы более тщательно подходить к поиску аномалий."
   ]
  },
  {
   "cell_type": "markdown",
   "metadata": {},
   "source": [
    "\n",
    "\n",
    "Резюме по методам поиска выбросов\n",
    "\n",
    "Мы рассмотрели классические методы выявления аномальных данных. Как вы сами поняли, каждый из них имеет свои преимущества и недостатки.\n",
    "\n",
    "    Метод ручного поиска тяжело автоматизировать, однако вы сами организовываете проверки, следите за процессом отсеивания выбросов и руководствуетесь не только статистикой, но и здравым смыслом. К тому же из всех представленных только этот метод способен выявить логические нестыковки в данных (например, общая площадь меньше жилой или число этажей более 77 в районе, где нет таких зданий). Обычно этот метод используется в комплексе с другими, чтобы удостовериться в том, что найденные данные действительно являются выбросами, и произвести логическую очистку, на которую неспособны другие методы.\n",
    "   \n",
    "    Методы межквартильного размаха и z-отклонений довольно просты в реализации и основаны на стройной математической теории, а не на эвристиках. Но это их преимущество и недостаток. Оба метода разработаны для данных, распределённых приблизительно нормально. Проблема в том, что далеко не всё в мире имеет нормальное распределение. Необходимо внимательно «рыться» в данных, совершать дополнительные преобразования, чтобы привести их хотя бы к подобию нормального распределения, либо подбирать границы методов, чтобы учитывать особенности распределений. В противном случае методы начинают считать выбросами всё, что не вписывается в жёсткие границы, и вы рискуете лишиться важных данных! Учитывайте это в своей работе и всегда проверяйте результаты.\n",
    "\n"
   ]
  },
  {
   "cell_type": "markdown",
   "metadata": {},
   "source": [
    "Постройте гистограмму для признака price_doc в логарифмическом масштабе. А также, добавьте на график линии, отображающие среднее и границы интервала для метода трех сигм."
   ]
  },
  {
   "cell_type": "code",
   "execution_count": 79,
   "metadata": {},
   "outputs": [
    {
     "data": {
      "image/png": "[encoded data removed]",
      "text/plain": [
       "<Figure size 800x400 with 1 Axes>"
      ]
     },
     "metadata": {},
     "output_type": "display_data"
    }
   ],
   "source": [
    "fig, ax = plt.subplots(1, 1, figsize=(8, 4))\n",
    "log_price_doc = np.log(sber_data['price_doc'] + 1)\n",
    "histplot = sns.histplot(log_price_doc, bins=30, ax=ax)\n",
    "histplot.axvline(log_price_doc.mean(), color='k', lw=2)\n",
    "histplot.axvline(log_price_doc.mean()+ 3 * log_price_doc.std(), color='k', ls='--', lw=2)\n",
    "histplot.axvline(log_price_doc.mean()- 3 * log_price_doc.std(), color='k', ls='--', lw=2)\n",
    "histplot.set_title('Price Distribution');"
   ]
  },
  {
   "cell_type": "markdown",
   "metadata": {},
   "source": [
    "Если линия пересекает хотя бы край столбца, столбец попадает в распределение, т. е. слева все столбцы входят в распределение, а справа как раз остаются выбросы."
   ]
  },
  {
   "cell_type": "markdown",
   "metadata": {},
   "source": [
    "Найдите потенциальные выбросы по признаку price_doc с помощью метода z-отклонения. Используйте логарифмический масштаб распределения. Сделайте «послабление» на 0.7 сигм в обе стороны распределения. Сколько выбросов вы получили?"
   ]
  },
  {
   "cell_type": "code",
   "execution_count": 85,
   "metadata": {},
   "outputs": [
    {
     "name": "stdout",
     "output_type": "stream",
     "text": [
      "(          id  full_sq  life_sq  floor        sub_area  preschool_quota  \\\n",
      "170      171      115     60.0    7.0      Krylatskoe           3092.0   \n",
      "441      442      129     80.0    3.0   Lomonosovskoe           3091.0   \n",
      "663      664      126     63.0    5.0  Fili Davydkovo           3422.0   \n",
      "877      878       95     59.0   12.0       Hamovniki            165.0   \n",
      "997      998      183    183.0   32.0    Obruchevskoe           2372.0   \n",
      "...      ...      ...      ...    ...             ...              ...   \n",
      "30369  30372      124      NaN   12.0       Izmajlovo           1313.0   \n",
      "30370  30373       82     82.0   18.0     Presnenskoe           3240.0   \n",
      "30397  30400      109     60.0   11.0         Ramenki            903.0   \n",
      "30441  30444      113      1.0   26.0        Tverskoe           1874.0   \n",
      "30467  30470       86     59.0    3.0        Tverskoe           1874.0   \n",
      "\n",
      "       preschool_education_centers_raion  school_quota  \\\n",
      "170                                    7        7478.0   \n",
      "441                                    5        8359.0   \n",
      "663                                    5        6974.0   \n",
      "877                                    5        9337.0   \n",
      "997                                    6        6083.0   \n",
      "...                                  ...           ...   \n",
      "30369                                  4        4339.0   \n",
      "30370                                  7       10602.0   \n",
      "30397                                  8        7788.0   \n",
      "30441                                  4        6772.0   \n",
      "30467                                  4        6772.0   \n",
      "\n",
      "       school_education_centers_raion  school_education_centers_top_20_raion  \\\n",
      "170                                 7                                      0   \n",
      "441                                 7                                      1   \n",
      "663                                 7                                      1   \n",
      "877                                 8                                      1   \n",
      "997                                 8                                      0   \n",
      "...                               ...                                    ...   \n",
      "30369                               6                                      0   \n",
      "30370                               9                                      0   \n",
      "30397                               8                                      0   \n",
      "30441                               4                                      1   \n",
      "30467                               4                                      1   \n",
      "\n",
      "       ...  office_km  additional_education_km  preschool_km  big_church_km  \\\n",
      "170    ...   0.727716                 0.681249      0.165629       0.287008   \n",
      "441    ...   0.190484                 1.105307      0.386088       1.258069   \n",
      "663    ...   1.305310                 1.212224      0.717463       1.873018   \n",
      "877    ...   0.634197                 0.704802      0.332294       0.874333   \n",
      "997    ...   0.723276                 0.597668      0.755596       1.734076   \n",
      "...    ...        ...                      ...           ...            ...   \n",
      "30369  ...   1.325438                 0.442404      0.862449       0.569742   \n",
      "30370  ...   0.181030                 2.037360      0.295247       0.723676   \n",
      "30397  ...   0.608047                 0.822709      0.435947       1.729040   \n",
      "30441  ...   0.182194                 0.000000      0.269716       0.181897   \n",
      "30467  ...   0.069986                 0.086552      0.362681       0.850385   \n",
      "\n",
      "       church_synagogue_km  theater_km  museum_km       ecology  \\\n",
      "170               1.147352   12.239214   7.247341          good   \n",
      "441               1.255066    1.473325   1.605929  satisfactory   \n",
      "663               0.650892    5.450400   4.118528  satisfactory   \n",
      "877               0.874372    0.254078   2.024633     excellent   \n",
      "997               1.045770    3.800176   3.234512  satisfactory   \n",
      "...                    ...         ...        ...           ...   \n",
      "30369             0.569372    5.379698   4.738857          good   \n",
      "30370             0.876217    2.666319   1.377132          poor   \n",
      "30397             0.480137    2.858389   3.224508  satisfactory   \n",
      "30441             0.184681    2.370385   0.695251     excellent   \n",
      "30467             0.310021    0.778428   1.450108          poor   \n",
      "\n",
      "      mosque_count_1000 price_doc  \n",
      "170                   0  37000000  \n",
      "441                   0  25500000  \n",
      "663                   0  26700000  \n",
      "877                   0  36700000  \n",
      "997                   1  26056764  \n",
      "...                 ...       ...  \n",
      "30369                 0  26055288  \n",
      "30370                 0  30630848  \n",
      "30397                 0  38400000  \n",
      "30441                 0  25039300  \n",
      "30467                 0  25000000  \n",
      "\n",
      "[301 rows x 61 columns],           id  full_sq  life_sq  floor              sub_area  preschool_quota  \\\n",
      "0          1       43     27.0    4.0              Bibirevo           5001.0   \n",
      "1          2       34     19.0    3.0     Nagatinskij Zaton           3119.0   \n",
      "2          3       43     29.0    2.0        Tekstil'shhiki           1463.0   \n",
      "3          4       89     50.0    9.0                Mitino           6839.0   \n",
      "4          5       77     77.0    4.0             Basmannoe           3240.0   \n",
      "...      ...      ...      ...    ...                   ...              ...   \n",
      "30465  30468       52      NaN   13.0              Tverskoe           1874.0   \n",
      "30466  30469       44     27.0    7.0              Otradnoe           5088.0   \n",
      "30468  30471       45      NaN   10.0  Poselenie Vnukovskoe              NaN   \n",
      "30469  30472       64     32.0    5.0          Obruchevskoe           2372.0   \n",
      "30470  30473       43     28.0    1.0           Novogireevo           2215.0   \n",
      "\n",
      "       preschool_education_centers_raion  school_quota  \\\n",
      "0                                      5       11065.0   \n",
      "1                                      5        6237.0   \n",
      "2                                      4        5580.0   \n",
      "3                                      9       17063.0   \n",
      "4                                      7        7770.0   \n",
      "...                                  ...           ...   \n",
      "30465                                  4        6772.0   \n",
      "30466                                  4       12721.0   \n",
      "30468                                  0           NaN   \n",
      "30469                                  6        6083.0   \n",
      "30470                                  4        5824.0   \n",
      "\n",
      "       school_education_centers_raion  school_education_centers_top_20_raion  \\\n",
      "0                                   5                                      0   \n",
      "1                                   8                                      0   \n",
      "2                                   7                                      0   \n",
      "3                                  10                                      0   \n",
      "4                                   9                                      0   \n",
      "...                               ...                                    ...   \n",
      "30465                               4                                      1   \n",
      "30466                               4                                      0   \n",
      "30468                               0                                      0   \n",
      "30469                               8                                      0   \n",
      "30470                               4                                      0   \n",
      "\n",
      "       ...  office_km  additional_education_km  preschool_km  big_church_km  \\\n",
      "0      ...   0.637189                 0.947962      0.177975       0.625783   \n",
      "1      ...   0.688796                 1.072315      0.273345       0.967821   \n",
      "2      ...   1.543049                 0.391957      0.158072       3.178751   \n",
      "3      ...   0.934273                 0.892674      0.236455       1.031777   \n",
      "4      ...   0.077901                 0.810801      0.376838       0.378756   \n",
      "...    ...        ...                      ...           ...            ...   \n",
      "30465  ...   0.182194                 0.000000      0.269716       0.181897   \n",
      "30466  ...   1.103579                 0.167718      0.349899       1.235066   \n",
      "30468  ...   4.338453                 1.339078      1.234235       1.192543   \n",
      "30469  ...   1.204798                 1.340017      0.130667       1.644053   \n",
      "30470  ...   2.108265                 0.825811      0.378950       0.480531   \n",
      "\n",
      "       church_synagogue_km  theater_km  museum_km       ecology  \\\n",
      "0                 0.628187   14.053047   7.389498          good   \n",
      "1                 0.471447    6.829889   0.709260     excellent   \n",
      "2                 0.755946    4.273200   3.156423          poor   \n",
      "3                 1.561505   16.990677  16.041521          good   \n",
      "4                 0.121681    1.112486   1.800125     excellent   \n",
      "...                    ...         ...        ...           ...   \n",
      "30465             0.184681    2.370385   0.695251     excellent   \n",
      "30466             0.612359    7.482165   4.836787          good   \n",
      "30468             1.186621   13.459593   9.890758       no data   \n",
      "30469             0.476021    2.088193   4.119706  satisfactory   \n",
      "30470             0.867332    0.688707   0.127867          poor   \n",
      "\n",
      "      mosque_count_1000 price_doc  \n",
      "0                     0   5850000  \n",
      "1                     0   6000000  \n",
      "2                     0   5700000  \n",
      "3                     0  13100000  \n",
      "4                     0  16331452  \n",
      "...                 ...       ...  \n",
      "30465                 0   6750554  \n",
      "30466                 0   7400000  \n",
      "30468                 0   6970959  \n",
      "30469                 0  13500000  \n",
      "30470                 0   5600000  \n",
      "\n",
      "[30170 rows x 61 columns])\n"
     ]
    }
   ],
   "source": [
    "def outliers_z_score_mod(data, feature, left=3.7, right=3.7, log_scale=False):\n",
    "    if log_scale:\n",
    "        x = np.log(data[feature]+1)\n",
    "    else:\n",
    "        x = data[feature]\n",
    "    mu = x.mean()\n",
    "    sigma = x.std()\n",
    "    lower_bound = mu - left * sigma\n",
    "    upper_bound = mu + right * sigma\n",
    "    outliers = data[(x < lower_bound) | (x > upper_bound)]\n",
    "    cleaned = data[(x >= lower_bound) & (x <= upper_bound)]\n",
    "    return outliers, cleaned\n",
    "print(outliers_z_score_mod(data=sber_data, feature='price_doc'))"
   ]
  },
  {
   "cell_type": "code",
   "execution_count": 86,
   "metadata": {},
   "outputs": [
    {
     "name": "stdout",
     "output_type": "stream",
     "text": [
      "Число выбросов по методу z-отклонения: 52\n",
      "Результирующее число записей: 30419\n"
     ]
    }
   ],
   "source": [
    "outliers, cleaned = outliers_z_score_mod(sber_data, 'price_doc', log_scale=True)\n",
    "print(f'Число выбросов по методу z-отклонения: {outliers.shape[0]}')\n",
    "print(f'Результирующее число записей: {cleaned.shape[0]}')"
   ]
  },
  {
   "cell_type": "markdown",
   "metadata": {},
   "source": [
    "Добавьте фишку с логарифмированием в свою функцию outliers_iqr_mod(). Добавьте в неё параметр log_scale. Если он выставлен в True, то производится логарифмирование признака. Примените полученную функцию к признаку price_doc. Число межквартильных размахов в обе стороны обозначьте как 3. Чему равно число выбросов, полученных таким методом?"
   ]
  },
  {
   "cell_type": "code",
   "execution_count": 93,
   "metadata": {},
   "outputs": [
    {
     "name": "stdout",
     "output_type": "stream",
     "text": [
      "Число выбросов по методу Тьюки: 92\n"
     ]
    }
   ],
   "source": [
    "def outliers_iqr_mod(data, feature, left=1.5, right=1.5, log_scale=False):\n",
    "    if log_scale:\n",
    "        x = np.log(data[feature])\n",
    "    else:\n",
    "        x = data[feature]\n",
    "    quartile_1, quartile_3 = x.quantile(0.25), x.quantile(0.75),\n",
    "    iqr = quartile_3 - quartile_1\n",
    "    lower_bound = quartile_1 - (iqr * left)\n",
    "    upper_bound = quartile_3 + (iqr * right)\n",
    "    outliers = data[(x < lower_bound) | (x > upper_bound)]\n",
    "    cleaned = data[(x >= lower_bound) & (x <= upper_bound)]\n",
    "    return outliers, cleaned\n",
    "outliers, cleaned = outliers_iqr_mod(sber_data, 'price_doc', left=3, right=3, log_scale=True)\n",
    "print(f'Число выбросов по методу Тьюки: {outliers.shape[0]}')"
   ]
  },
  {
   "cell_type": "markdown",
   "metadata": {},
   "source": [
    "Обнаружение и ликвидация дубликатов\n",
    "\n",
    "Способ обнаружения дубликатов зависит от того, что именно вы считаете дубликатом. Например, за дубликаты можно посчитать записи, у которых совпадают все признаки или их часть. Если в таблице есть столбец с уникальным идентификатором (id), вы можете попробовать поискать дубликаты по нему: одинаковые записи могут иметь одинаковый id.\n",
    "\n",
    "✍️ Проверим, есть у нас такие записи: для этого сравним число уникальных значений в столбце id с числом строк. Число уникальных значений вычислим с помощью метода nunique():"
   ]
  },
  {
   "cell_type": "code",
   "execution_count": 94,
   "metadata": {},
   "outputs": [
    {
     "data": {
      "text/plain": [
       "True"
      ]
     },
     "execution_count": 94,
     "metadata": {},
     "output_type": "execute_result"
    }
   ],
   "source": [
    "sber_data['id'].nunique() == sber_data.shape[0]"
   ]
  },
  {
   "cell_type": "markdown",
   "metadata": {},
   "source": [
    "Вроде бы всё в порядке: каждой записи в таблице соответствует свой уникальный идентификатор. Но это ещё не означает, что в таблице нет дубликатов!"
   ]
  },
  {
   "cell_type": "markdown",
   "metadata": {},
   "source": [
    "Чтобы отследить дубликаты, можно воспользоваться методом duplicated(), который возвращает булеву маску для фильтрации. Для записей, у которых совпадают признаки, переданные методу, он возвращает True, для остальных — False.\n",
    "\n",
    "У метода есть параметр subset — список признаков, по которым производится поиск дубликатов. По умолчанию используются все столбцы в DataFrame и ищутся полные дубликаты."
   ]
  },
  {
   "cell_type": "markdown",
   "metadata": {},
   "source": [
    "✍️ Найдём число полных дубликатов таблице sber_data. Предварительно создадим список столбцов dupl_columns, по которым будем искать совпадения (все столбцы, не включая id). \n",
    "\n",
    "Создадим маску дубликатов с помощью метода duplicated() и произведём фильтрацию. Результат заносим в переменную sber_duplicates. Выведем число строк в результирующем DataFrame:"
   ]
  },
  {
   "cell_type": "code",
   "execution_count": 95,
   "metadata": {},
   "outputs": [
    {
     "name": "stdout",
     "output_type": "stream",
     "text": [
      "Число найденных дубликатов: 562\n"
     ]
    }
   ],
   "source": [
    "dupl_columns = list(sber_data.columns)\n",
    "dupl_columns.remove('id')\n",
    "\n",
    "mask = sber_data.duplicated(subset=dupl_columns)\n",
    "sber_duplicates = sber_data[mask]\n",
    "print(f'Число найденных дубликатов: {sber_duplicates.shape[0]}')"
   ]
  },
  {
   "cell_type": "markdown",
   "metadata": {},
   "source": [
    "Теперь нам необходимо от них избавиться. Для этого легче всего воспользоваться методом drop_duplicates(), который удаляет повторяющиеся записи из таблицы. \n",
    "\n",
    "✍️ Создадим новую таблицу sber_dedupped, которая будет версией исходной таблицы, очищенной от полных дубликатов."
   ]
  },
  {
   "cell_type": "code",
   "execution_count": 96,
   "metadata": {},
   "outputs": [
    {
     "name": "stdout",
     "output_type": "stream",
     "text": [
      "Результирующее число записей: 29909\n"
     ]
    }
   ],
   "source": [
    "sber_dedupped = sber_data.drop_duplicates(subset=dupl_columns)\n",
    "print(f'Результирующее число записей: {sber_dedupped.shape[0]}')"
   ]
  },
  {
   "cell_type": "markdown",
   "metadata": {},
   "source": [
    "Неинформативные признаки\n",
    "\n",
    "Неинформативными называются признаки, в которых большая часть строк содержит одинаковые значения (например, пол клиентов в мужском барбершопе), либо наоборот — признак, в котором для большинства записей значения уникальны (например, номер телефона клиента). \n",
    "\n",
    "Обнаружение и ликвидация неинформативных признаков\n",
    "\n",
    "Чтобы считать признак неинформативным, прежде всего нужно задать какой-то определённый порог. Например, часто используют пороги в 0.95 и 0.99. Это означает: признак неинформативен, если в нем 95 % (99 %) одинаковых значений или же 95 % (99 %) данных полностью уникальны."
   ]
  },
  {
   "cell_type": "markdown",
   "metadata": {},
   "source": [
    "Разберём алгоритм:\n",
    "\n",
    "→ Создаём пустой список low_information_cols, куда будем добавлять названия признаков, которые мы посчитаем неинформативными.\n",
    "\n",
    "→ В цикле пройдёмся по всем именам столбцов в таблице и для каждого будем совершать следующие действия:\n",
    "\n",
    "    рассчитаем top_freq — наибольшую относительную частоту с помощью метода value_counts() с параметром normalize=True. Метод вернёт долю от общих данных, которую занимает каждое уникальное значение в признаке.\n",
    "\n",
    "Например, для столбца oil_chemistry_raion (нефтехимический район) результат будет следующим:\n",
    "\n",
    "Отсюда нам нужен максимум.\n",
    "\n",
    "    рассчитаем nunique_ratio — отношение числа уникальных значений в столбце к размеру всего столбца. Число уникальных значений в столбце получим с помощью метода nunique(), а размер признака — с помощью метода count(). Например, для столбца id число уникальных значений — 30471; оно же равно размеру таблицы. Поэтому результат отношения будет 1.\n",
    "    сравним каждое из полученных чисел с пороговым значением (у нас это 0.95) и добавим в список неинформативных признаков, если условие истинно.\n",
    "\n"
   ]
  },
  {
   "cell_type": "code",
   "execution_count": 97,
   "metadata": {},
   "outputs": [
    {
     "name": "stdout",
     "output_type": "stream",
     "text": [
      "id: 100.0% уникальных значений\n",
      "oil_chemistry_raion: 99.03% одинаковых значений\n",
      "railroad_terminal_raion: 96.27% одинаковых значений\n",
      "nuclear_reactor_raion: 97.17% одинаковых значений\n",
      "big_road1_1line: 97.44% одинаковых значений\n",
      "mosque_count_1000: 98.08% одинаковых значений\n"
     ]
    }
   ],
   "source": [
    "#список неинформативных признаков\n",
    "low_information_cols = [] \n",
    "\n",
    "#цикл по всем столбцам\n",
    "for col in sber_data.columns:\n",
    "    #наибольшая относительная частота в признаке\n",
    "    top_freq = sber_data[col].value_counts(normalize=True).max()\n",
    "    #доля уникальных значений от размера признака\n",
    "    nunique_ratio = sber_data[col].nunique() / sber_data[col].count()\n",
    "    # сравниваем наибольшую частоту с порогом\n",
    "    if top_freq > 0.95:\n",
    "        low_information_cols.append(col)\n",
    "        print(f'{col}: {round(top_freq*100, 2)}% одинаковых значений')\n",
    "    # сравниваем долю уникальных значений с порогом\n",
    "    if nunique_ratio > 0.95:\n",
    "        low_information_cols.append(col)\n",
    "        print(f'{col}: {round(nunique_ratio*100, 2)}% уникальных значений')"
   ]
  },
  {
   "cell_type": "markdown",
   "metadata": {},
   "source": [
    "Итак, мы нашли шесть неинформативных признаков. Теперь можно удалить их с помощью метода drop(), передав результирующий список в его аргументы."
   ]
  },
  {
   "cell_type": "code",
   "execution_count": 98,
   "metadata": {},
   "outputs": [
    {
     "name": "stdout",
     "output_type": "stream",
     "text": [
      "Результирующее число признаков: 55\n"
     ]
    }
   ],
   "source": [
    "information_sber_data = sber_data.drop(low_information_cols, axis=1)\n",
    "print(f'Результирующее число признаков: {information_sber_data.shape[1]}')"
   ]
  },
  {
   "cell_type": "code",
   "execution_count": null,
   "metadata": {},
   "outputs": [],
   "source": []
  },
  {
   "cell_type": "markdown",
   "metadata": {},
   "source": [
    "Важность признаков\n",
    "\n",
    "На самом деле информативность признаков определяется не только числом уникальных значений, но и их влиянием на целевой признак (тот, который мы хотим предсказать). Это называется важностью признака. \n",
    "\n",
    "Признаки, которые обладают низкой важностью, называют нерелевантными признаками. \n",
    "\n",
    "Например, если бы в наших данных о квартирах был признак, содержащий информацию о температуре воздуха за окном, он был бы нерелевантным."
   ]
  }
 ],
 "metadata": {
  "kernelspec": {
   "display_name": "Python 3",
   "language": "python",
   "name": "python3"
  },
  "language_info": {
   "codemirror_mode": {
    "name": "ipython",
    "version": 3
   },
   "file_extension": ".py",
   "mimetype": "text/x-python",
   "name": "python",
   "nbconvert_exporter": "python",
   "pygments_lexer": "ipython3",
   "version": "3.9.10"
  }
 },
 "nbformat": 4,
 "nbformat_minor": 2
}
