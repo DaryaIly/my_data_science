{
 "cells": [
  {
   "cell_type": "markdown",
   "metadata": {},
   "source": [
    "# 9. Закрепление знаний. Визуализация данных"
   ]
  },
  {
   "cell_type": "code",
   "execution_count": null,
   "metadata": {},
   "outputs": [],
   "source": [
    "import pandas as pd"
   ]
  },
  {
   "cell_type": "code",
   "execution_count": null,
   "metadata": {},
   "outputs": [],
   "source": [
    "import plotly\n",
    "import plotly.express as px\n",
    "print(plotly.__version__)"
   ]
  },
  {
   "cell_type": "code",
   "execution_count": null,
   "metadata": {},
   "outputs": [],
   "source": [
    "churn_data = pd.read_csv('/Users/dasha/Desktop/Skillfactory/IDE/my_data_science/PY_13_Визуализация данных/data/churn.csv')\n",
    "churn_data.head()"
   ]
  },
  {
   "cell_type": "code",
   "execution_count": null,
   "metadata": {},
   "outputs": [],
   "source": [
    "## Делаем копию исходных данных\n",
    "churn_data_df  = churn_data.copy()\n",
    "## Избавимся от лишнего столбца\n",
    "churn_data_df = churn_data_df.drop('RowNumber', axis=1)\n",
    "## Проверяем\n",
    "churn_data_df.head()\n",
    "\n"
   ]
  },
  {
   "cell_type": "markdown",
   "metadata": {},
   "source": [
    "# 9.1. Каково соотношение ушедших и лояльных клиентов? Покажите это на графике и дайте комментарий по соотношению."
   ]
  },
  {
   "cell_type": "code",
   "execution_count": null,
   "metadata": {},
   "outputs": [],
   "source": [
    "## Обозначаем лояльных и не лояльных клиентов\n",
    "churn_data_df['Loyalty'] = churn_data_df['Exited'].apply(lambda x: 'Exited' if x == 1 else 'Loyal')\n",
    "### Проверяем\n",
    "churn_data_df.head()"
   ]
  },
  {
   "cell_type": "code",
   "execution_count": null,
   "metadata": {},
   "outputs": [],
   "source": [
    "## Строим график, показывающий доли лояльных и не лояльных клиентов\n",
    "churn_data_df['ratio'] = churn_data_df['Exited'].value_counts()\n",
    "fig = px.pie(churn_data_df, values='ratio', names='Loyalty', title='Соотношение лояльных и ушедших клиентов')\n",
    "fig.show()"
   ]
  },
  {
   "cell_type": "markdown",
   "metadata": {},
   "source": [
    "### Выводы: В банке значительный отток клиентов - в особенности по отношению к лояльным (соотношение 79.6% к 20.4% соответственно)"
   ]
  },
  {
   "cell_type": "markdown",
   "metadata": {},
   "source": [
    "## 9.2. Постройте график, показывающий распределение баланса пользователей, у которых на счету больше 2 500 долларов. Опишите распределение и сделайте выводы."
   ]
  },
  {
   "cell_type": "code",
   "execution_count": null,
   "metadata": {},
   "outputs": [],
   "source": [
    "# фильтруем клиентов\n",
    "mask = churn_data_df['Balance']>2500\n",
    "# строим гистограмму распределения балансов клиентов\n",
    "fig = px.histogram(data_frame=churn_data_df[mask], x='Balance', title='Гистограмма распределения балансов клиентов')\n",
    "fig.show()"
   ]
  },
  {
   "cell_type": "markdown",
   "metadata": {},
   "source": [
    "### Выводы: подавляющая доля клиентов банка, у которых на счету больше 2500 долларов, держит на балансе от 50 000 до 200 000 долларов. У основной группы из этих клиентов баланс счета лежит в диапазоне от 100 000 до 150 000 долларов, Клиенты с балансом от 0 до 50 000 долларов и от 200 000 до 250 000 долларов, встречаются, но их количество в общей массе клиентов, у которых на счету более 2500 долларов, не велико. "
   ]
  },
  {
   "cell_type": "markdown",
   "metadata": {},
   "source": [
    "## 9.3. Посмотрите на распределение баланса клиента в разрезе признака оттока. Как различаются суммы на накопительном счёте ушедших и лояльных клиентов? Подумайте и напишите, с чем это может быть связано, что может не устраивать ушедших клиентов в банке."
   ]
  },
  {
   "cell_type": "code",
   "execution_count": null,
   "metadata": {},
   "outputs": [],
   "source": [
    "# строим гистограмму распределения баланса в разрезе \"лояльный клиент - ушедший клиент\"\n",
    "fig = px.histogram(data_frame=churn_data_df, x='Balance', color='Loyalty', title='Гистограмма распределения баланса в зависимости от лояльности клиента', nbins = 30)\n",
    "fig.show()"
   ]
  },
  {
   "cell_type": "markdown",
   "metadata": {},
   "source": [
    "### Выводы: Значительное количество лояльных клиентов имеют на счету нулевой баланс. вопрос - почему? ипри этом ушедшие клиенты имеют доллары на балансе. вопрос - как именно определено, что данные клиенты - ушедшие? возможно в самом определении лояльных и ушедших клиентов кроется ошибка. Есть вариант, что ушедшие кленты, имеющие деньги на балансе - не пользуются ими по причине - накопления, которые не используют (старший возраст, или накопительные вклады для детей, которые еще не достигли совершеннолетия, и по которым нет движения), умерли, сидят в тюрьме, уехали далеко и надолго и не могут пользоваться своими средствами. Лофяльные клиенты с нудевым балансом - могут получать зарплату на счет и тут же полностью ее снимать, т.е. не хранить деньги в банке"
   ]
  },
  {
   "cell_type": "code",
   "execution_count": null,
   "metadata": {},
   "outputs": [],
   "source": [
    "## Обозначаем активных и не активных клиентов\n",
    "churn_data_df['Activity'] = churn_data_df['IsActiveMember'].apply(lambda x: 'NonActive' if x == 0 else 'Active')\n",
    "fig = px.histogram(data_frame=churn_data_df, x='Balance', color='Activity', title='Гистограмма распределения баланса в зависимости от активности клиента', nbins = 30)\n",
    "fig.show()"
   ]
  },
  {
   "cell_type": "markdown",
   "metadata": {},
   "source": [
    "\"\"\" Выводы: данная диаграмма в сравнении с предыдущей показывает, что в банке присутствуют активные ушедшие клиенты, что, скорее всего, может указывать на ошибку в определениии лояльных и ушедших клиенов"
   ]
  },
  {
   "cell_type": "markdown",
   "metadata": {},
   "source": [
    "## 9.4. Посмотрите на распределение возраста в разрезе признака оттока. В какой группе больше потенциальных выбросов? На какую возрастную категорию клиентов стоит обратить внимание банку?"
   ]
  },
  {
   "cell_type": "code",
   "execution_count": null,
   "metadata": {},
   "outputs": [],
   "source": [
    "# строим коробчатую диаграмму распределения возраста в разрезе \"лояльный клиент - ушедший клиент\"\n",
    "fig = px.box(data_frame= churn_data_df, x='Age', color='Loyalty', title='Диаграмма распределения возраста в разрезе лояльности клиентов')\n",
    "fig.show()"
   ]
  },
  {
   "cell_type": "markdown",
   "metadata": {},
   "source": [
    "### !!!!!!!!!!!??????????????????????????????????????????Выводы: Потенциальных выбросов больше в группе ушедших клиентов, Стоит обратить внимание на группу от 30 до 40 лет, как наиболее близкую к лояльным клиентам. "
   ]
  },
  {
   "cell_type": "markdown",
   "metadata": {},
   "source": [
    "## 9.5. Постройте график, который показывает взаимосвязь кредитного рейтинга клиента и его предполагаемой зарплаты. Добавьте расцветку по признаку оттока клиентов. Какова взаимосвязь между признаками? Если не видите явной взаимосвязи, укажите это."
   ]
  },
  {
   "cell_type": "code",
   "execution_count": null,
   "metadata": {},
   "outputs": [],
   "source": [
    "# строим линейную диаграмму взаимосвязи кредитного рейтинга клиентов и их предполагаемой зарплаты в разрезе \"лояльный клиент - ушедший клиент\"\n",
    "fig = px.ecdf(data_frame=churn_data_df, x = 'CreditScore', y = 'EstimatedSalary', color='Loyalty', title='Диаграмма взаимосвязи кредитного рейтинга клиента и его предполагаемой зарплаты')\n",
    "fig.show()"
   ]
  },
  {
   "cell_type": "markdown",
   "metadata": {},
   "source": [
    "###  Выводы: Предполагаемая зарплата ушедших клиетнов немногим выше предполагаемой зарплаты лояльных клиентов. При этом кредитный рейтинг ушедших клиентов начинаетс с более низкого значения (350) нежели у лояльных клиентов (405)."
   ]
  },
  {
   "cell_type": "markdown",
   "metadata": {},
   "source": [
    "## 9.6. Кто чаще уходит, мужчины или женщины? Постройте график, который иллюстрирует это."
   ]
  },
  {
   "cell_type": "code",
   "execution_count": null,
   "metadata": {},
   "outputs": [],
   "source": [
    "# импортирууем библиотеку Matplotlib\n",
    "import matplotlib.pyplot as plt\n",
    "%matplotlib inline\n",
    "plt.style.use('default')\n",
    "# омпределяем дооли мужчин и женщин среди ушедших клиентов\n",
    "churn_data_df_gender = churn_data_df[churn_data_df.Exited == 1].groupby('Gender')['Exited'].value_counts()\n",
    "# строим диаграмму, иллюстрирующую доли ушедших мужчин и женщин\n",
    "fig = plt.figure(figsize=(5, 5))\n",
    "axes = fig.add_axes([0, 0, 1, 1])\n",
    "axes.pie(\n",
    "    churn_data_df_gender,\n",
    "    labels=('Женщины', 'Мужчины'),\n",
    "    autopct='%.1f%%',\n",
    "    explode = [0.1,0]\n",
    ")\n",
    "title = axes.set_title('Распределение ушедших клиентов по гендерному признаку')\n",
    "fig.show()"
   ]
  },
  {
   "cell_type": "markdown",
   "metadata": {},
   "source": [
    "###  Выводы: Женщин среди ушедших клиентов больше, чем мужчин"
   ]
  },
  {
   "cell_type": "markdown",
   "metadata": {},
   "source": [
    "## 9.7. Как отток клиентов зависит от числа приобретённых у банка услуг? Для ответа на этот вопрос постройте многоуровневую столбчатую диаграмму."
   ]
  },
  {
   "cell_type": "code",
   "execution_count": null,
   "metadata": {},
   "outputs": [],
   "source": [
    "fig = px.histogram(churn_data_df, x = 'Loyalty',  color = 'NumOfProducts', title='Зависимость между лояльностью клиентов и приобретенными у банка услугами')\n",
    "fig.show()"
   ]
  },
  {
   "cell_type": "markdown",
   "metadata": {},
   "source": [
    "### Выводы: Лояльные клиенты приобрели у банка больше услуг, нежели ушедшие, причем у лояльных клиентов приобладают позиции 1 и 2 услуги, у ушедших клентов 3 услуги встречаются чаще, чем у лояльных."
   ]
  },
  {
   "cell_type": "markdown",
   "metadata": {},
   "source": [
    "## 9.8. Как влияет наличие статуса активного клиента на отток клиентов? Постройте диаграмму, иллюстрирующую это. Что бы вы предложили банку, чтобы уменьшить отток клиентов среди неактивных?"
   ]
  },
  {
   "cell_type": "code",
   "execution_count": null,
   "metadata": {},
   "outputs": [],
   "source": [
    "# импортирууем библиотеку Matplotlib\n",
    "import matplotlib.pyplot as plt\n",
    "%matplotlib inline\n",
    "\n",
    "# визуализация систем координат\n",
    "fig, axes = plt.subplots(nrows=1, ncols=2, figsize=(15, 4))\n",
    "\n",
    "# сортирую ушедших клиентов на активных и не активных\n",
    "churn_data_df_act1 = churn_data_df[churn_data_df['Loyalty'] == 'Exited']['IsActiveMember'].value_counts()\n",
    "\n",
    "#строю диаграмму для ушедших клиентов\n",
    "axes[0].pie(\n",
    "    churn_data_df_act1,\n",
    "    labels=('НеАктивные', 'Активные'),\n",
    "    colors=['blue', 'red'],\n",
    "    autopct='%.1f%%',\n",
    "    explode = [0.1, 0]\n",
    ")\n",
    "axes[0].set_title('Доля активных и не активных клиентов среди ушедших')\n",
    "\n",
    "# сортирую лояльных клиентов на активных и не активных\n",
    "churn_data_df_act2 = churn_data_df[churn_data_df['Loyalty'] == 'Loyal']['IsActiveMember'].value_counts()\n",
    "\n",
    "#строю диаграмму для лояльных клиентов\n",
    "axes[1].pie(\n",
    "    churn_data_df_act2,\n",
    "    labels=('Активные','НеАктивные'),\n",
    "    colors=['red', 'blue'],\n",
    "    autopct='%.1f%%',\n",
    "    explode = [0.1, 0]\n",
    ")\n",
    "\n",
    "axes[1].set_title('Доля активных и не активных клиентов среди лояльных')"
   ]
  },
  {
   "cell_type": "markdown",
   "metadata": {},
   "source": [
    "### Выводы: # Процент ушедших клиентов, имеющих статус активных, = 36,1%', и он меньше, чем процент лояльных клиентов, имеющих статус активных, = 55,5%. Рекомендация банку: уделять активным клиентам больше внимания, делать им выгодные предложения, делать спец условия, предоставлять дополнитеьные льготы, выделить персонального менеджера и т.д."
   ]
  },
  {
   "cell_type": "markdown",
   "metadata": {},
   "source": [
    "## 9.9. В какой стране доля ушедших клиентов больше? Постройте тепловую картограмму, которая покажет это соотношение на карте мира. Предположите, с чем это может быть связано."
   ]
  },
  {
   "cell_type": "code",
   "execution_count": null,
   "metadata": {},
   "outputs": [],
   "source": [
    "# определяем долю ушедших клиентов по странам\n",
    "churn_data_df_exited_ratio=churn_data_df[churn_data_df.Exited == 1].Geography.value_counts()/churn_data_df.Geography.value_counts()*100\n",
    "# определяем данные в формат DataFrame\n",
    "churn_data_df_exited_ratio_df = pd.DataFrame(data=churn_data_df_exited_ratio.items(), columns=['Country', 'Exited_ratio'])\n",
    "\n",
    "#строим график\n",
    "fig = px.choropleth(\n",
    "data_frame= churn_data_df_exited_ratio_df, #DataFrame\n",
    "locations=\"Country\", #страна клиента\n",
    "locationmode = \"country names\", #режим сопоставления локаций с базой Plotly\n",
    "color=\"Exited_ratio\", #от чего зависит цвет\n",
    "range_color=[0, 35], #диапазон цвет \n",
    "title='Доля ушедших клиентов по странам', #заголовок\n",
    "width=800, #ширина\n",
    "height=500, #высота\n",
    "color_continuous_scale='Reds' #палитра цветов\n",
    ")\n",
    "fig.show()"
   ]
  },
  {
   "cell_type": "markdown",
   "metadata": {},
   "source": [
    "### Выводы: Доля ушедших клиентов в Германии что в два раза превышает долю таких клиентов Франции и почти в два раза в Испании. Это может быть связано со многими факторами - более активная позиция банка на рынках Франции и Испании, меньшая банковская конкуренция на рынках Франции и Испании, и большая - в Германии, более сильные позции банка на  рынках Франции и Испании, меннее силные - на в Германии. в Германии могут проявлять активность местные банки, предлагать боьше спец условий и акций для клиентов, а во Франции и Испании местне банки могут быть менее активными, Швейцарские банки ( Швейцария слвится своей банковской системой) могут быть более активными в Германии. и т.д."
   ]
  },
  {
   "cell_type": "markdown",
   "metadata": {},
   "source": [
    "## 9.10. Переведите числовой признак CreditScore в категориальный. Для этого воспользуйтесь функцией get_credit_score_cat(), которая приведена ниже. Примените её к столбцу CreditScore и создайте новый признак CreditScoreCat — категории кредитного рейтинга."
   ]
  },
  {
   "cell_type": "code",
   "execution_count": null,
   "metadata": {},
   "outputs": [],
   "source": [
    "# создаем функцию\n",
    "def get_credit_score_cat(credit_score):\n",
    "    if credit_score >= 300 and credit_score < 500:\n",
    "        return \"Very_Poor\"\n",
    "    elif credit_score >= 500 and credit_score < 601:\n",
    "        return \"Poor\"\n",
    "    elif credit_score >= 601 and credit_score < 661:\n",
    "        return \"Fair\"\n",
    "    elif credit_score >= 661 and credit_score < 781:\n",
    "        return \"Good\"\n",
    "    elif credit_score >= 781 and credit_score < 851:\n",
    "        return \"Excellent\"\n",
    "    elif credit_score >= 851:\n",
    "        return \"Top\"\n",
    "    elif credit_score < 300:\n",
    "        return \"Deep\"\n",
    " \n",
    " # Применяю функцию к столбцу CreditScore и создаю новый признак CreditScoreCat\n",
    "churn_data_df['CreditScoreCat'] = churn_data_df['CreditScore'].apply(get_credit_score_cat)"
   ]
  },
  {
   "cell_type": "markdown",
   "metadata": {},
   "source": [
    "## Постройте сводную таблицу, строками которой являются категории кредитного рейтинга (CreditScoreCat), а столбцами — количество лет, в течение которых клиент пользуется услугами банка (Tenure). В ячейках сводной таблицы должно находиться среднее по признаку оттока (Exited) — доля ушедших пользователей."
   ]
  },
  {
   "cell_type": "code",
   "execution_count": null,
   "metadata": {},
   "outputs": [],
   "source": [
    "# строю сводную таблицу\n",
    "churn_data_df_pivot = churn_data_df.pivot_table(\n",
    "    values='Exited',\n",
    "    index='CreditScoreCat',\n",
    "    columns='Tenure',\n",
    "    aggfunc='mean'\n",
    ")\n",
    "display(churn_data_df_pivot)\n"
   ]
  },
  {
   "cell_type": "markdown",
   "metadata": {},
   "source": [
    "## На основе полученной сводной таблицы постройте тепловую карту с аннотацией. Найдите на тепловой карте категории клиентов, которые уходят чаще всего."
   ]
  },
  {
   "cell_type": "code",
   "execution_count": null,
   "metadata": {},
   "outputs": [],
   "source": [
    "import seaborn as sns\n",
    "heatmap = sns.heatmap(data=churn_data_df_pivot, cmap='YlGnBu')\n",
    "heatmap.set_title('Тепловая карта категорий чаще всего уходящих клиентов', fontsize=16)\n"
   ]
  },
  {
   "cell_type": "markdown",
   "metadata": {},
   "source": [
    "### Выводы: Клиенты, которые уходят чаще всего, имеют рейтинг:\n",
    "### -  Very_Poor  -  пользуются услугами банка менее года\n",
    "### -  Very_Poor  -  пользуются услугами банка 10 лет\n",
    "### далее категории Very_Poor ( 4 года), Excellent - до года и 9 лет"
   ]
  }
 ],
 "metadata": {
  "kernelspec": {
   "display_name": "Python 3",
   "language": "python",
   "name": "python3"
  },
  "language_info": {
   "codemirror_mode": {
    "name": "ipython",
    "version": 3
   },
   "file_extension": ".py",
   "mimetype": "text/x-python",
   "name": "python",
   "nbconvert_exporter": "python",
   "pygments_lexer": "ipython3",
   "version": "3.9.10"
  }
 },
 "nbformat": 4,
 "nbformat_minor": 2
}
